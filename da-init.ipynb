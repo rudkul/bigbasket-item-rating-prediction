{
 "cells": [
  {
   "cell_type": "code",
   "execution_count": 1,
   "id": "76bcc88a",
   "metadata": {
    "execution": {
     "iopub.execute_input": "2022-11-18T16:06:43.285313Z",
     "iopub.status.busy": "2022-11-18T16:06:43.284518Z",
     "iopub.status.idle": "2022-11-18T16:07:22.361976Z",
     "shell.execute_reply": "2022-11-18T16:07:22.360680Z"
    },
    "id": "lz7tr1zhmsRt",
    "papermill": {
     "duration": 39.098657,
     "end_time": "2022-11-18T16:07:22.365123",
     "exception": false,
     "start_time": "2022-11-18T16:06:43.266466",
     "status": "completed"
    },
    "tags": []
   },
   "outputs": [
    {
     "name": "stdout",
     "output_type": "stream",
     "text": [
      "Requirement already satisfied: tensorflow in /opt/conda/lib/python3.7/site-packages (2.6.4)\n",
      "Requirement already satisfied: termcolor~=1.1.0 in /opt/conda/lib/python3.7/site-packages (from tensorflow) (1.1.0)\n",
      "Requirement already satisfied: absl-py~=0.10 in /opt/conda/lib/python3.7/site-packages (from tensorflow) (0.15.0)\n",
      "Requirement already satisfied: opt-einsum~=3.3.0 in /opt/conda/lib/python3.7/site-packages (from tensorflow) (3.3.0)\n",
      "Requirement already satisfied: protobuf>=3.9.2 in /opt/conda/lib/python3.7/site-packages (from tensorflow) (3.19.4)\n",
      "Requirement already satisfied: keras-preprocessing~=1.1.2 in /opt/conda/lib/python3.7/site-packages (from tensorflow) (1.1.2)\n",
      "Requirement already satisfied: tensorflow-estimator<2.7,>=2.6.0 in /opt/conda/lib/python3.7/site-packages (from tensorflow) (2.6.0)\n",
      "Requirement already satisfied: clang~=5.0 in /opt/conda/lib/python3.7/site-packages (from tensorflow) (5.0)\n",
      "Requirement already satisfied: flatbuffers~=1.12.0 in /opt/conda/lib/python3.7/site-packages (from tensorflow) (1.12)\n",
      "Requirement already satisfied: wheel~=0.35 in /opt/conda/lib/python3.7/site-packages (from tensorflow) (0.37.1)\n",
      "Requirement already satisfied: grpcio<2.0,>=1.37.0 in /opt/conda/lib/python3.7/site-packages (from tensorflow) (1.43.0)\n",
      "Collecting typing-extensions<3.11,>=3.7\n",
      "  Downloading typing_extensions-3.10.0.2-py3-none-any.whl (26 kB)\n",
      "Requirement already satisfied: google-pasta~=0.2 in /opt/conda/lib/python3.7/site-packages (from tensorflow) (0.2.0)\n",
      "Requirement already satisfied: wrapt~=1.12.1 in /opt/conda/lib/python3.7/site-packages (from tensorflow) (1.12.1)\n",
      "Requirement already satisfied: keras<2.7,>=2.6.0 in /opt/conda/lib/python3.7/site-packages (from tensorflow) (2.6.0)\n",
      "Requirement already satisfied: six~=1.15.0 in /opt/conda/lib/python3.7/site-packages (from tensorflow) (1.15.0)\n",
      "Collecting h5py~=3.1.0\n",
      "  Downloading h5py-3.1.0-cp37-cp37m-manylinux1_x86_64.whl (4.0 MB)\n",
      "     ━━━━━━━━━━━━━━━━━━━━━━━━━━━━━━━━━━━━━━━━ 4.0/4.0 MB 10.8 MB/s eta 0:00:00\n",
      "Requirement already satisfied: astunparse~=1.6.3 in /opt/conda/lib/python3.7/site-packages (from tensorflow) (1.6.3)\n",
      "Requirement already satisfied: gast==0.4.0 in /opt/conda/lib/python3.7/site-packages (from tensorflow) (0.4.0)\n",
      "Collecting tensorboard<2.7,>=2.6.0\n",
      "  Downloading tensorboard-2.6.0-py3-none-any.whl (5.6 MB)\n",
      "     ━━━━━━━━━━━━━━━━━━━━━━━━━━━━━━━━━━━━━━━━ 5.6/5.6 MB 45.2 MB/s eta 0:00:00\n",
      "Collecting numpy~=1.19.2\n",
      "  Downloading numpy-1.19.5-cp37-cp37m-manylinux2010_x86_64.whl (14.8 MB)\n",
      "     ━━━━━━━━━━━━━━━━━━━━━━━━━━━━━━━━━━━━━━━━ 14.8/14.8 MB 31.8 MB/s eta 0:00:00\n",
      "Requirement already satisfied: cached-property in /opt/conda/lib/python3.7/site-packages (from h5py~=3.1.0->tensorflow) (1.5.2)\n",
      "Requirement already satisfied: requests<3,>=2.21.0 in /opt/conda/lib/python3.7/site-packages (from tensorboard<2.7,>=2.6.0->tensorflow) (2.28.1)\n",
      "Requirement already satisfied: tensorboard-data-server<0.7.0,>=0.6.0 in /opt/conda/lib/python3.7/site-packages (from tensorboard<2.7,>=2.6.0->tensorflow) (0.6.1)\n",
      "Requirement already satisfied: markdown>=2.6.8 in /opt/conda/lib/python3.7/site-packages (from tensorboard<2.7,>=2.6.0->tensorflow) (3.3.7)\n",
      "Requirement already satisfied: google-auth<2,>=1.6.3 in /opt/conda/lib/python3.7/site-packages (from tensorboard<2.7,>=2.6.0->tensorflow) (1.35.0)\n",
      "Requirement already satisfied: google-auth-oauthlib<0.5,>=0.4.1 in /opt/conda/lib/python3.7/site-packages (from tensorboard<2.7,>=2.6.0->tensorflow) (0.4.6)\n",
      "Requirement already satisfied: setuptools>=41.0.0 in /opt/conda/lib/python3.7/site-packages (from tensorboard<2.7,>=2.6.0->tensorflow) (59.8.0)\n",
      "Requirement already satisfied: tensorboard-plugin-wit>=1.6.0 in /opt/conda/lib/python3.7/site-packages (from tensorboard<2.7,>=2.6.0->tensorflow) (1.8.1)\n",
      "Requirement already satisfied: werkzeug>=0.11.15 in /opt/conda/lib/python3.7/site-packages (from tensorboard<2.7,>=2.6.0->tensorflow) (2.2.2)\n",
      "Requirement already satisfied: pyasn1-modules>=0.2.1 in /opt/conda/lib/python3.7/site-packages (from google-auth<2,>=1.6.3->tensorboard<2.7,>=2.6.0->tensorflow) (0.2.7)\n",
      "Requirement already satisfied: cachetools<5.0,>=2.0.0 in /opt/conda/lib/python3.7/site-packages (from google-auth<2,>=1.6.3->tensorboard<2.7,>=2.6.0->tensorflow) (4.2.4)\n",
      "Requirement already satisfied: rsa<5,>=3.1.4 in /opt/conda/lib/python3.7/site-packages (from google-auth<2,>=1.6.3->tensorboard<2.7,>=2.6.0->tensorflow) (4.8)\n",
      "Requirement already satisfied: requests-oauthlib>=0.7.0 in /opt/conda/lib/python3.7/site-packages (from google-auth-oauthlib<0.5,>=0.4.1->tensorboard<2.7,>=2.6.0->tensorflow) (1.3.1)\n",
      "Requirement already satisfied: importlib-metadata>=4.4 in /opt/conda/lib/python3.7/site-packages (from markdown>=2.6.8->tensorboard<2.7,>=2.6.0->tensorflow) (4.13.0)\n",
      "Requirement already satisfied: urllib3<1.27,>=1.21.1 in /opt/conda/lib/python3.7/site-packages (from requests<3,>=2.21.0->tensorboard<2.7,>=2.6.0->tensorflow) (1.26.12)\n",
      "Requirement already satisfied: certifi>=2017.4.17 in /opt/conda/lib/python3.7/site-packages (from requests<3,>=2.21.0->tensorboard<2.7,>=2.6.0->tensorflow) (2022.9.24)\n",
      "Requirement already satisfied: charset-normalizer<3,>=2 in /opt/conda/lib/python3.7/site-packages (from requests<3,>=2.21.0->tensorboard<2.7,>=2.6.0->tensorflow) (2.1.0)\n",
      "Requirement already satisfied: idna<4,>=2.5 in /opt/conda/lib/python3.7/site-packages (from requests<3,>=2.21.0->tensorboard<2.7,>=2.6.0->tensorflow) (3.3)\n",
      "Requirement already satisfied: MarkupSafe>=2.1.1 in /opt/conda/lib/python3.7/site-packages (from werkzeug>=0.11.15->tensorboard<2.7,>=2.6.0->tensorflow) (2.1.1)\n",
      "Requirement already satisfied: zipp>=0.5 in /opt/conda/lib/python3.7/site-packages (from importlib-metadata>=4.4->markdown>=2.6.8->tensorboard<2.7,>=2.6.0->tensorflow) (3.8.0)\n",
      "Requirement already satisfied: pyasn1<0.5.0,>=0.4.6 in /opt/conda/lib/python3.7/site-packages (from pyasn1-modules>=0.2.1->google-auth<2,>=1.6.3->tensorboard<2.7,>=2.6.0->tensorflow) (0.4.8)\n",
      "Requirement already satisfied: oauthlib>=3.0.0 in /opt/conda/lib/python3.7/site-packages (from requests-oauthlib>=0.7.0->google-auth-oauthlib<0.5,>=0.4.1->tensorboard<2.7,>=2.6.0->tensorflow) (3.2.0)\n",
      "Installing collected packages: typing-extensions, numpy, h5py, tensorboard\n",
      "  Attempting uninstall: typing-extensions\n",
      "    Found existing installation: typing_extensions 4.4.0\n",
      "    Uninstalling typing_extensions-4.4.0:\n",
      "      Successfully uninstalled typing_extensions-4.4.0\n",
      "  Attempting uninstall: numpy\n",
      "    Found existing installation: numpy 1.21.6\n",
      "    Uninstalling numpy-1.21.6:\n",
      "      Successfully uninstalled numpy-1.21.6\n",
      "  Attempting uninstall: h5py\n",
      "    Found existing installation: h5py 3.7.0\n",
      "    Uninstalling h5py-3.7.0:\n",
      "      Successfully uninstalled h5py-3.7.0\n",
      "  Attempting uninstall: tensorboard\n",
      "    Found existing installation: tensorboard 2.10.1\n",
      "    Uninstalling tensorboard-2.10.1:\n",
      "      Successfully uninstalled tensorboard-2.10.1\n"
     ]
    },
    {
     "name": "stderr",
     "output_type": "stream",
     "text": [
      "ERROR: pip's dependency resolver does not currently take into account all the packages that are installed. This behaviour is the source of the following dependency conflicts.\n",
      "tensorflow-io 0.21.0 requires tensorflow-io-gcs-filesystem==0.21.0, which is not installed.\n",
      "beatrix-jupyterlab 3.1.7 requires google-cloud-bigquery-storage, which is not installed.\n",
      "xarray-einstats 0.2.2 requires numpy>=1.21, but you have numpy 1.19.5 which is incompatible.\n",
      "tfx-bsl 1.9.0 requires pyarrow<6,>=1, but you have pyarrow 8.0.0 which is incompatible.\n",
      "tfx-bsl 1.9.0 requires tensorflow!=2.0.*,!=2.1.*,!=2.2.*,!=2.3.*,!=2.4.*,!=2.5.*,!=2.6.*,!=2.7.*,!=2.8.*,<3,>=1.15.5, but you have tensorflow 2.6.4 which is incompatible.\n",
      "tensorflow-transform 1.9.0 requires pyarrow<6,>=1, but you have pyarrow 8.0.0 which is incompatible.\n",
      "tensorflow-transform 1.9.0 requires tensorflow!=2.0.*,!=2.1.*,!=2.2.*,!=2.3.*,!=2.4.*,!=2.5.*,!=2.6.*,!=2.7.*,!=2.8.*,<2.10,>=1.15.5, but you have tensorflow 2.6.4 which is incompatible.\n",
      "tensorflow-serving-api 2.9.0 requires tensorflow<3,>=2.9.0, but you have tensorflow 2.6.4 which is incompatible.\n",
      "pytorch-lightning 1.7.7 requires tensorboard>=2.9.1, but you have tensorboard 2.6.0 which is incompatible.\n",
      "pytorch-lightning 1.7.7 requires typing-extensions>=4.0.0, but you have typing-extensions 3.10.0.2 which is incompatible.\n",
      "pdpbox 0.2.1 requires matplotlib==3.1.1, but you have matplotlib 3.5.3 which is incompatible.\n",
      "pandas-profiling 3.1.0 requires markupsafe~=2.0.1, but you have markupsafe 2.1.1 which is incompatible.\n",
      "nnabla 1.31.0 requires numpy>=1.20.0, but you have numpy 1.19.5 which is incompatible.\n",
      "jaxlib 0.3.22 requires numpy>=1.20, but you have numpy 1.19.5 which is incompatible.\n",
      "jax 0.3.23 requires numpy>=1.20, but you have numpy 1.19.5 which is incompatible.\n",
      "flax 0.6.1 requires typing-extensions>=4.1.1, but you have typing-extensions 3.10.0.2 which is incompatible.\n",
      "flake8 4.0.1 requires importlib-metadata<4.3; python_version < \"3.8\", but you have importlib-metadata 4.13.0 which is incompatible.\n",
      "featuretools 1.11.1 requires numpy>=1.21.0, but you have numpy 1.19.5 which is incompatible.\n",
      "cmdstanpy 1.0.7 requires numpy>=1.21, but you have numpy 1.19.5 which is incompatible.\n",
      "apache-beam 2.40.0 requires dill<0.3.2,>=0.3.1.1, but you have dill 0.3.5.1 which is incompatible.\n",
      "apache-beam 2.40.0 requires pyarrow<8.0.0,>=0.15.1, but you have pyarrow 8.0.0 which is incompatible.\n",
      "allennlp 2.10.0 requires h5py>=3.6.0, but you have h5py 3.1.0 which is incompatible.\n",
      "allennlp 2.10.0 requires numpy>=1.21.4, but you have numpy 1.19.5 which is incompatible.\n",
      "allennlp 2.10.0 requires protobuf==3.20.0, but you have protobuf 3.19.4 which is incompatible.\n",
      "aioitertools 0.11.0 requires typing_extensions>=4.0; python_version < \"3.10\", but you have typing-extensions 3.10.0.2 which is incompatible.\n",
      "aiobotocore 2.4.0 requires botocore<1.27.60,>=1.27.59, but you have botocore 1.27.93 which is incompatible.\n",
      "WARNING: Running pip as the 'root' user can result in broken permissions and conflicting behaviour with the system package manager. It is recommended to use a virtual environment instead: https://pip.pypa.io/warnings/venv\n"
     ]
    },
    {
     "name": "stdout",
     "output_type": "stream",
     "text": [
      "Successfully installed h5py-3.1.0 numpy-1.19.5 tensorboard-2.6.0 typing-extensions-3.10.0.2\n"
     ]
    }
   ],
   "source": [
    "import os\n",
    "import numpy as np \n",
    "import pandas as pd\n",
    "import seaborn as sns\n",
    "import matplotlib.pyplot as plt\n",
    "import statsmodels.api as sm\n",
    "from statsmodels.formula.api import ols\n",
    "from scipy.stats import f_oneway\n",
    "from scipy.stats import pearsonr, spearmanr\n",
    "from sklearn import linear_model\n",
    "from sklearn.model_selection import train_test_split\n",
    "from sklearn.linear_model import LinearRegression\n",
    "from sklearn.pipeline import make_pipeline\n",
    "from sklearn.metrics import mean_squared_error, r2_score\n",
    "from statsmodels.stats.outliers_influence import variance_inflation_factor\n",
    "from sklearn.linear_model import Lasso\n",
    "from sklearn.preprocessing import StandardScaler\n",
    "from sklearn.linear_model import Ridge\n",
    "from sklearn.tree import DecisionTreeRegressor \n",
    "os.system('pip install tensorflow')\n",
    "import tensorflow as tf\n",
    "from sklearn.metrics import mean_absolute_error\n"
   ]
  },
  {
   "cell_type": "code",
   "execution_count": 2,
   "id": "09998db1",
   "metadata": {
    "execution": {
     "iopub.execute_input": "2022-11-18T16:07:22.400388Z",
     "iopub.status.busy": "2022-11-18T16:07:22.399690Z",
     "iopub.status.idle": "2022-11-18T16:07:23.023120Z",
     "shell.execute_reply": "2022-11-18T16:07:23.021836Z"
    },
    "id": "BIRKV7inmsRw",
    "outputId": "8c398951-8e70-4d17-c660-1f2566bf3416",
    "papermill": {
     "duration": 0.644329,
     "end_time": "2022-11-18T16:07:23.025909",
     "exception": false,
     "start_time": "2022-11-18T16:07:22.381580",
     "status": "completed"
    },
    "tags": []
   },
   "outputs": [
    {
     "name": "stderr",
     "output_type": "stream",
     "text": [
      "/opt/conda/lib/python3.7/site-packages/IPython/core/interactiveshell.py:3552: FutureWarning: The error_bad_lines argument has been deprecated and will be removed in a future version.\n",
      "\n",
      "\n",
      "  exec(code_obj, self.user_global_ns, self.user_ns)\n"
     ]
    },
    {
     "data": {
      "text/html": [
       "<div>\n",
       "<style scoped>\n",
       "    .dataframe tbody tr th:only-of-type {\n",
       "        vertical-align: middle;\n",
       "    }\n",
       "\n",
       "    .dataframe tbody tr th {\n",
       "        vertical-align: top;\n",
       "    }\n",
       "\n",
       "    .dataframe thead th {\n",
       "        text-align: right;\n",
       "    }\n",
       "</style>\n",
       "<table border=\"1\" class=\"dataframe\">\n",
       "  <thead>\n",
       "    <tr style=\"text-align: right;\">\n",
       "      <th></th>\n",
       "      <th>index</th>\n",
       "      <th>product</th>\n",
       "      <th>category</th>\n",
       "      <th>sub_category</th>\n",
       "      <th>brand</th>\n",
       "      <th>sale_price</th>\n",
       "      <th>market_price</th>\n",
       "      <th>type</th>\n",
       "      <th>rating</th>\n",
       "      <th>description</th>\n",
       "    </tr>\n",
       "  </thead>\n",
       "  <tbody>\n",
       "    <tr>\n",
       "      <th>27550</th>\n",
       "      <td>27551</td>\n",
       "      <td>Wottagirl! Perfume Spray - Heaven, Classic</td>\n",
       "      <td>Beauty &amp; Hygiene</td>\n",
       "      <td>Fragrances &amp; Deos</td>\n",
       "      <td>Layerr</td>\n",
       "      <td>199.20</td>\n",
       "      <td>249.0</td>\n",
       "      <td>Perfume</td>\n",
       "      <td>3.9</td>\n",
       "      <td>Layerr brings you Wottagirl Classic fragrant b...</td>\n",
       "    </tr>\n",
       "    <tr>\n",
       "      <th>27551</th>\n",
       "      <td>27552</td>\n",
       "      <td>Rosemary</td>\n",
       "      <td>Gourmet &amp; World Food</td>\n",
       "      <td>Cooking &amp; Baking Needs</td>\n",
       "      <td>Puramate</td>\n",
       "      <td>67.50</td>\n",
       "      <td>75.0</td>\n",
       "      <td>Herbs, Seasonings &amp; Rubs</td>\n",
       "      <td>4.0</td>\n",
       "      <td>Puramate rosemary is enough to transform a dis...</td>\n",
       "    </tr>\n",
       "    <tr>\n",
       "      <th>27552</th>\n",
       "      <td>27553</td>\n",
       "      <td>Peri-Peri Sweet Potato Chips</td>\n",
       "      <td>Gourmet &amp; World Food</td>\n",
       "      <td>Snacks, Dry Fruits, Nuts</td>\n",
       "      <td>FabBox</td>\n",
       "      <td>200.00</td>\n",
       "      <td>200.0</td>\n",
       "      <td>Nachos &amp; Chips</td>\n",
       "      <td>3.8</td>\n",
       "      <td>We have taken the richness of Sweet Potatoes (...</td>\n",
       "    </tr>\n",
       "    <tr>\n",
       "      <th>27553</th>\n",
       "      <td>27554</td>\n",
       "      <td>Green Tea - Pure Original</td>\n",
       "      <td>Beverages</td>\n",
       "      <td>Tea</td>\n",
       "      <td>Tetley</td>\n",
       "      <td>396.00</td>\n",
       "      <td>495.0</td>\n",
       "      <td>Tea Bags</td>\n",
       "      <td>4.2</td>\n",
       "      <td>Tetley Green Tea with its refreshing pure, ori...</td>\n",
       "    </tr>\n",
       "    <tr>\n",
       "      <th>27554</th>\n",
       "      <td>27555</td>\n",
       "      <td>United Dreams Go Far Deodorant</td>\n",
       "      <td>Beauty &amp; Hygiene</td>\n",
       "      <td>Men's Grooming</td>\n",
       "      <td>United Colors Of Benetton</td>\n",
       "      <td>214.53</td>\n",
       "      <td>390.0</td>\n",
       "      <td>Men's Deodorants</td>\n",
       "      <td>4.5</td>\n",
       "      <td>The new mens fragrance from the United Dreams ...</td>\n",
       "    </tr>\n",
       "  </tbody>\n",
       "</table>\n",
       "</div>"
      ],
      "text/plain": [
       "       index                                     product  \\\n",
       "27550  27551  Wottagirl! Perfume Spray - Heaven, Classic   \n",
       "27551  27552                                    Rosemary   \n",
       "27552  27553                Peri-Peri Sweet Potato Chips   \n",
       "27553  27554                   Green Tea - Pure Original   \n",
       "27554  27555              United Dreams Go Far Deodorant   \n",
       "\n",
       "                   category              sub_category  \\\n",
       "27550      Beauty & Hygiene         Fragrances & Deos   \n",
       "27551  Gourmet & World Food    Cooking & Baking Needs   \n",
       "27552  Gourmet & World Food  Snacks, Dry Fruits, Nuts   \n",
       "27553             Beverages                       Tea   \n",
       "27554      Beauty & Hygiene            Men's Grooming   \n",
       "\n",
       "                            brand  sale_price  market_price  \\\n",
       "27550                      Layerr      199.20         249.0   \n",
       "27551                    Puramate       67.50          75.0   \n",
       "27552                      FabBox      200.00         200.0   \n",
       "27553                      Tetley      396.00         495.0   \n",
       "27554  United Colors Of Benetton       214.53         390.0   \n",
       "\n",
       "                           type  rating  \\\n",
       "27550                   Perfume     3.9   \n",
       "27551  Herbs, Seasonings & Rubs     4.0   \n",
       "27552            Nachos & Chips     3.8   \n",
       "27553                  Tea Bags     4.2   \n",
       "27554          Men's Deodorants     4.5   \n",
       "\n",
       "                                             description  \n",
       "27550  Layerr brings you Wottagirl Classic fragrant b...  \n",
       "27551  Puramate rosemary is enough to transform a dis...  \n",
       "27552  We have taken the richness of Sweet Potatoes (...  \n",
       "27553  Tetley Green Tea with its refreshing pure, ori...  \n",
       "27554  The new mens fragrance from the United Dreams ...  "
      ]
     },
     "execution_count": 2,
     "metadata": {},
     "output_type": "execute_result"
    }
   ],
   "source": [
    "df = pd.read_csv(\"../input/bigbasket-entire-product-list-28k-datapoints/BigBasket Products.csv\",engine='python',error_bad_lines=False)\n",
    "df.tail()"
   ]
  },
  {
   "cell_type": "code",
   "execution_count": 3,
   "id": "505d910d",
   "metadata": {
    "execution": {
     "iopub.execute_input": "2022-11-18T16:07:23.061214Z",
     "iopub.status.busy": "2022-11-18T16:07:23.060772Z",
     "iopub.status.idle": "2022-11-18T16:07:23.127741Z",
     "shell.execute_reply": "2022-11-18T16:07:23.125807Z"
    },
    "id": "3FMBGQuqmsRx",
    "outputId": "2c052bf2-42ac-46bd-9a9c-6db4eae85204",
    "papermill": {
     "duration": 0.088204,
     "end_time": "2022-11-18T16:07:23.130879",
     "exception": false,
     "start_time": "2022-11-18T16:07:23.042675",
     "status": "completed"
    },
    "tags": []
   },
   "outputs": [
    {
     "name": "stdout",
     "output_type": "stream",
     "text": [
      "<class 'pandas.core.frame.DataFrame'>\n",
      "RangeIndex: 27555 entries, 0 to 27554\n",
      "Data columns (total 10 columns):\n",
      " #   Column        Non-Null Count  Dtype  \n",
      "---  ------        --------------  -----  \n",
      " 0   index         27555 non-null  int64  \n",
      " 1   product       27554 non-null  object \n",
      " 2   category      27555 non-null  object \n",
      " 3   sub_category  27555 non-null  object \n",
      " 4   brand         27554 non-null  object \n",
      " 5   sale_price    27555 non-null  float64\n",
      " 6   market_price  27555 non-null  float64\n",
      " 7   type          27555 non-null  object \n",
      " 8   rating        18929 non-null  float64\n",
      " 9   description   27440 non-null  object \n",
      "dtypes: float64(3), int64(1), object(6)\n",
      "memory usage: 2.1+ MB\n"
     ]
    },
    {
     "data": {
      "text/html": [
       "<div>\n",
       "<style scoped>\n",
       "    .dataframe tbody tr th:only-of-type {\n",
       "        vertical-align: middle;\n",
       "    }\n",
       "\n",
       "    .dataframe tbody tr th {\n",
       "        vertical-align: top;\n",
       "    }\n",
       "\n",
       "    .dataframe thead th {\n",
       "        text-align: right;\n",
       "    }\n",
       "</style>\n",
       "<table border=\"1\" class=\"dataframe\">\n",
       "  <thead>\n",
       "    <tr style=\"text-align: right;\">\n",
       "      <th></th>\n",
       "      <th>index</th>\n",
       "      <th>sale_price</th>\n",
       "      <th>market_price</th>\n",
       "      <th>rating</th>\n",
       "    </tr>\n",
       "  </thead>\n",
       "  <tbody>\n",
       "    <tr>\n",
       "      <th>count</th>\n",
       "      <td>27555.00000</td>\n",
       "      <td>27555.000000</td>\n",
       "      <td>27555.000000</td>\n",
       "      <td>18929.000000</td>\n",
       "    </tr>\n",
       "    <tr>\n",
       "      <th>mean</th>\n",
       "      <td>13778.00000</td>\n",
       "      <td>322.514808</td>\n",
       "      <td>382.056664</td>\n",
       "      <td>3.943410</td>\n",
       "    </tr>\n",
       "    <tr>\n",
       "      <th>std</th>\n",
       "      <td>7954.58767</td>\n",
       "      <td>486.263116</td>\n",
       "      <td>581.730717</td>\n",
       "      <td>0.739063</td>\n",
       "    </tr>\n",
       "    <tr>\n",
       "      <th>min</th>\n",
       "      <td>1.00000</td>\n",
       "      <td>2.450000</td>\n",
       "      <td>3.000000</td>\n",
       "      <td>1.000000</td>\n",
       "    </tr>\n",
       "    <tr>\n",
       "      <th>25%</th>\n",
       "      <td>6889.50000</td>\n",
       "      <td>95.000000</td>\n",
       "      <td>100.000000</td>\n",
       "      <td>3.700000</td>\n",
       "    </tr>\n",
       "    <tr>\n",
       "      <th>50%</th>\n",
       "      <td>13778.00000</td>\n",
       "      <td>190.000000</td>\n",
       "      <td>220.000000</td>\n",
       "      <td>4.100000</td>\n",
       "    </tr>\n",
       "    <tr>\n",
       "      <th>75%</th>\n",
       "      <td>20666.50000</td>\n",
       "      <td>359.000000</td>\n",
       "      <td>425.000000</td>\n",
       "      <td>4.300000</td>\n",
       "    </tr>\n",
       "    <tr>\n",
       "      <th>max</th>\n",
       "      <td>27555.00000</td>\n",
       "      <td>12500.000000</td>\n",
       "      <td>12500.000000</td>\n",
       "      <td>5.000000</td>\n",
       "    </tr>\n",
       "  </tbody>\n",
       "</table>\n",
       "</div>"
      ],
      "text/plain": [
       "             index    sale_price  market_price        rating\n",
       "count  27555.00000  27555.000000  27555.000000  18929.000000\n",
       "mean   13778.00000    322.514808    382.056664      3.943410\n",
       "std     7954.58767    486.263116    581.730717      0.739063\n",
       "min        1.00000      2.450000      3.000000      1.000000\n",
       "25%     6889.50000     95.000000    100.000000      3.700000\n",
       "50%    13778.00000    190.000000    220.000000      4.100000\n",
       "75%    20666.50000    359.000000    425.000000      4.300000\n",
       "max    27555.00000  12500.000000  12500.000000      5.000000"
      ]
     },
     "execution_count": 3,
     "metadata": {},
     "output_type": "execute_result"
    }
   ],
   "source": [
    "df.info()\n",
    "df.describe()"
   ]
  },
  {
   "cell_type": "markdown",
   "id": "cd2c6827",
   "metadata": {
    "id": "qNDvbayMmsRy",
    "papermill": {
     "duration": 0.016777,
     "end_time": "2022-11-18T16:07:23.165109",
     "exception": false,
     "start_time": "2022-11-18T16:07:23.148332",
     "status": "completed"
    },
    "tags": []
   },
   "source": [
    "# Below we find the unique types of categories"
   ]
  },
  {
   "cell_type": "code",
   "execution_count": 4,
   "id": "f7cda367",
   "metadata": {
    "execution": {
     "iopub.execute_input": "2022-11-18T16:07:23.201935Z",
     "iopub.status.busy": "2022-11-18T16:07:23.201200Z",
     "iopub.status.idle": "2022-11-18T16:07:23.210848Z",
     "shell.execute_reply": "2022-11-18T16:07:23.209848Z"
    },
    "id": "sWuw7QlWmsRz",
    "outputId": "c46bd279-26bf-4ab5-9eb8-3c36a33315e1",
    "papermill": {
     "duration": 0.030932,
     "end_time": "2022-11-18T16:07:23.213174",
     "exception": false,
     "start_time": "2022-11-18T16:07:23.182242",
     "status": "completed"
    },
    "tags": []
   },
   "outputs": [
    {
     "data": {
      "text/plain": [
       "array(['Beauty & Hygiene', 'Kitchen, Garden & Pets',\n",
       "       'Cleaning & Household', 'Gourmet & World Food',\n",
       "       'Foodgrains, Oil & Masala', 'Snacks & Branded Foods', 'Beverages',\n",
       "       'Bakery, Cakes & Dairy', 'Baby Care', 'Fruits & Vegetables',\n",
       "       'Eggs, Meat & Fish'], dtype=object)"
      ]
     },
     "execution_count": 4,
     "metadata": {},
     "output_type": "execute_result"
    }
   ],
   "source": [
    "df['category'].unique()\n"
   ]
  },
  {
   "cell_type": "markdown",
   "id": "6aa6a594",
   "metadata": {
    "id": "CP-g0hgWmsRz",
    "papermill": {
     "duration": 0.016806,
     "end_time": "2022-11-18T16:07:23.247260",
     "exception": false,
     "start_time": "2022-11-18T16:07:23.230454",
     "status": "completed"
    },
    "tags": []
   },
   "source": [
    "# Checking for null values"
   ]
  },
  {
   "cell_type": "code",
   "execution_count": 5,
   "id": "2e683932",
   "metadata": {
    "execution": {
     "iopub.execute_input": "2022-11-18T16:07:23.283912Z",
     "iopub.status.busy": "2022-11-18T16:07:23.283429Z",
     "iopub.status.idle": "2022-11-18T16:07:23.305976Z",
     "shell.execute_reply": "2022-11-18T16:07:23.304833Z"
    },
    "id": "lrOpWvUbmsR0",
    "outputId": "85e36393-2881-4174-819e-250659b266a8",
    "papermill": {
     "duration": 0.043718,
     "end_time": "2022-11-18T16:07:23.308266",
     "exception": false,
     "start_time": "2022-11-18T16:07:23.264548",
     "status": "completed"
    },
    "tags": []
   },
   "outputs": [
    {
     "data": {
      "text/plain": [
       "index              0\n",
       "product            1\n",
       "category           0\n",
       "sub_category       0\n",
       "brand              1\n",
       "sale_price         0\n",
       "market_price       0\n",
       "type               0\n",
       "rating          8626\n",
       "description      115\n",
       "dtype: int64"
      ]
     },
     "execution_count": 5,
     "metadata": {},
     "output_type": "execute_result"
    }
   ],
   "source": [
    "df.isnull().sum()"
   ]
  },
  {
   "cell_type": "markdown",
   "id": "48dd28fe",
   "metadata": {
    "id": "cxPcCI7zmsR0",
    "papermill": {
     "duration": 0.016695,
     "end_time": "2022-11-18T16:07:23.342505",
     "exception": false,
     "start_time": "2022-11-18T16:07:23.325810",
     "status": "completed"
    },
    "tags": []
   },
   "source": [
    "# Dropping null values\n"
   ]
  },
  {
   "cell_type": "code",
   "execution_count": 6,
   "id": "75e9f366",
   "metadata": {
    "execution": {
     "iopub.execute_input": "2022-11-18T16:07:23.379662Z",
     "iopub.status.busy": "2022-11-18T16:07:23.378904Z",
     "iopub.status.idle": "2022-11-18T16:07:23.409693Z",
     "shell.execute_reply": "2022-11-18T16:07:23.408456Z"
    },
    "id": "RMABQ9NOmsR1",
    "outputId": "0990e813-c831-47f5-d978-19a71ccc59c4",
    "papermill": {
     "duration": 0.052474,
     "end_time": "2022-11-18T16:07:23.412121",
     "exception": false,
     "start_time": "2022-11-18T16:07:23.359647",
     "status": "completed"
    },
    "tags": []
   },
   "outputs": [
    {
     "data": {
      "text/plain": [
       "index            0\n",
       "product          0\n",
       "category         0\n",
       "sub_category     0\n",
       "brand            0\n",
       "sale_price       0\n",
       "market_price     0\n",
       "type             0\n",
       "rating           0\n",
       "description     88\n",
       "dtype: int64"
      ]
     },
     "execution_count": 6,
     "metadata": {},
     "output_type": "execute_result"
    }
   ],
   "source": [
    "df1 = df.dropna(subset=['product','brand','rating'])\n",
    "df1.isnull().sum()\n"
   ]
  },
  {
   "cell_type": "code",
   "execution_count": 7,
   "id": "8fed085c",
   "metadata": {
    "execution": {
     "iopub.execute_input": "2022-11-18T16:07:23.449268Z",
     "iopub.status.busy": "2022-11-18T16:07:23.448847Z",
     "iopub.status.idle": "2022-11-18T16:07:23.469082Z",
     "shell.execute_reply": "2022-11-18T16:07:23.467837Z"
    },
    "id": "o_CZUe31msR2",
    "outputId": "22433333-3b25-49aa-e54b-46447b323132",
    "papermill": {
     "duration": 0.041715,
     "end_time": "2022-11-18T16:07:23.471536",
     "exception": false,
     "start_time": "2022-11-18T16:07:23.429821",
     "status": "completed"
    },
    "tags": []
   },
   "outputs": [
    {
     "data": {
      "text/plain": [
       "index            0\n",
       "product          0\n",
       "category         0\n",
       "sub_category     0\n",
       "brand            0\n",
       "sale_price       0\n",
       "market_price     0\n",
       "type             0\n",
       "rating           0\n",
       "description     88\n",
       "dtype: int64"
      ]
     },
     "execution_count": 7,
     "metadata": {},
     "output_type": "execute_result"
    }
   ],
   "source": [
    "df1.isnull().sum()\n"
   ]
  },
  {
   "cell_type": "code",
   "execution_count": 8,
   "id": "49d8b8ed",
   "metadata": {
    "execution": {
     "iopub.execute_input": "2022-11-18T16:07:23.510815Z",
     "iopub.status.busy": "2022-11-18T16:07:23.509642Z",
     "iopub.status.idle": "2022-11-18T16:07:23.545099Z",
     "shell.execute_reply": "2022-11-18T16:07:23.543314Z"
    },
    "id": "5Oe32yz1msR2",
    "outputId": "c2ead018-85f1-45af-e9cb-b83986b067dc",
    "papermill": {
     "duration": 0.057654,
     "end_time": "2022-11-18T16:07:23.548067",
     "exception": false,
     "start_time": "2022-11-18T16:07:23.490413",
     "status": "completed"
    },
    "tags": []
   },
   "outputs": [
    {
     "name": "stderr",
     "output_type": "stream",
     "text": [
      "/opt/conda/lib/python3.7/site-packages/pandas/core/frame.py:4913: SettingWithCopyWarning: \n",
      "A value is trying to be set on a copy of a slice from a DataFrame\n",
      "\n",
      "See the caveats in the documentation: https://pandas.pydata.org/pandas-docs/stable/user_guide/indexing.html#returning-a-view-versus-a-copy\n",
      "  errors=errors,\n"
     ]
    },
    {
     "data": {
      "text/html": [
       "<div>\n",
       "<style scoped>\n",
       "    .dataframe tbody tr th:only-of-type {\n",
       "        vertical-align: middle;\n",
       "    }\n",
       "\n",
       "    .dataframe tbody tr th {\n",
       "        vertical-align: top;\n",
       "    }\n",
       "\n",
       "    .dataframe thead th {\n",
       "        text-align: right;\n",
       "    }\n",
       "</style>\n",
       "<table border=\"1\" class=\"dataframe\">\n",
       "  <thead>\n",
       "    <tr style=\"text-align: right;\">\n",
       "      <th></th>\n",
       "      <th>sale_price</th>\n",
       "      <th>market_price</th>\n",
       "      <th>rating</th>\n",
       "    </tr>\n",
       "  </thead>\n",
       "  <tbody>\n",
       "    <tr>\n",
       "      <th>count</th>\n",
       "      <td>18928.000000</td>\n",
       "      <td>18928.000000</td>\n",
       "      <td>18928.000000</td>\n",
       "    </tr>\n",
       "    <tr>\n",
       "      <th>mean</th>\n",
       "      <td>267.775174</td>\n",
       "      <td>322.172169</td>\n",
       "      <td>3.943396</td>\n",
       "    </tr>\n",
       "    <tr>\n",
       "      <th>std</th>\n",
       "      <td>364.310489</td>\n",
       "      <td>459.980876</td>\n",
       "      <td>0.739080</td>\n",
       "    </tr>\n",
       "    <tr>\n",
       "      <th>min</th>\n",
       "      <td>3.000000</td>\n",
       "      <td>3.000000</td>\n",
       "      <td>1.000000</td>\n",
       "    </tr>\n",
       "    <tr>\n",
       "      <th>25%</th>\n",
       "      <td>85.000000</td>\n",
       "      <td>96.000000</td>\n",
       "      <td>3.700000</td>\n",
       "    </tr>\n",
       "    <tr>\n",
       "      <th>50%</th>\n",
       "      <td>165.000000</td>\n",
       "      <td>195.500000</td>\n",
       "      <td>4.100000</td>\n",
       "    </tr>\n",
       "    <tr>\n",
       "      <th>75%</th>\n",
       "      <td>306.000000</td>\n",
       "      <td>370.000000</td>\n",
       "      <td>4.300000</td>\n",
       "    </tr>\n",
       "    <tr>\n",
       "      <th>max</th>\n",
       "      <td>6660.000000</td>\n",
       "      <td>7400.000000</td>\n",
       "      <td>5.000000</td>\n",
       "    </tr>\n",
       "  </tbody>\n",
       "</table>\n",
       "</div>"
      ],
      "text/plain": [
       "         sale_price  market_price        rating\n",
       "count  18928.000000  18928.000000  18928.000000\n",
       "mean     267.775174    322.172169      3.943396\n",
       "std      364.310489    459.980876      0.739080\n",
       "min        3.000000      3.000000      1.000000\n",
       "25%       85.000000     96.000000      3.700000\n",
       "50%      165.000000    195.500000      4.100000\n",
       "75%      306.000000    370.000000      4.300000\n",
       "max     6660.000000   7400.000000      5.000000"
      ]
     },
     "execution_count": 8,
     "metadata": {},
     "output_type": "execute_result"
    }
   ],
   "source": [
    "df1.drop(columns  = ['index','product', 'sub_category','brand','type','description'], axis = 1, inplace = True)\n",
    "df1.describe()\n",
    "\n"
   ]
  },
  {
   "cell_type": "markdown",
   "id": "35dd924c",
   "metadata": {
    "id": "A4kRkJzpmsR2",
    "papermill": {
     "duration": 0.017552,
     "end_time": "2022-11-18T16:07:23.587249",
     "exception": false,
     "start_time": "2022-11-18T16:07:23.569697",
     "status": "completed"
    },
    "tags": []
   },
   "source": [
    "# Finding mean of selected attributes"
   ]
  },
  {
   "cell_type": "code",
   "execution_count": 9,
   "id": "6af24073",
   "metadata": {
    "execution": {
     "iopub.execute_input": "2022-11-18T16:07:23.624641Z",
     "iopub.status.busy": "2022-11-18T16:07:23.623817Z",
     "iopub.status.idle": "2022-11-18T16:07:23.643588Z",
     "shell.execute_reply": "2022-11-18T16:07:23.642362Z"
    },
    "id": "Cqgj0X3NmsR3",
    "outputId": "61bea106-b723-4b0f-efb9-da6e3749ae8d",
    "papermill": {
     "duration": 0.041326,
     "end_time": "2022-11-18T16:07:23.646197",
     "exception": false,
     "start_time": "2022-11-18T16:07:23.604871",
     "status": "completed"
    },
    "tags": []
   },
   "outputs": [
    {
     "data": {
      "text/html": [
       "<div>\n",
       "<style scoped>\n",
       "    .dataframe tbody tr th:only-of-type {\n",
       "        vertical-align: middle;\n",
       "    }\n",
       "\n",
       "    .dataframe tbody tr th {\n",
       "        vertical-align: top;\n",
       "    }\n",
       "\n",
       "    .dataframe thead th {\n",
       "        text-align: right;\n",
       "    }\n",
       "</style>\n",
       "<table border=\"1\" class=\"dataframe\">\n",
       "  <thead>\n",
       "    <tr style=\"text-align: right;\">\n",
       "      <th></th>\n",
       "      <th>sale_price</th>\n",
       "      <th>market_price</th>\n",
       "      <th>rating</th>\n",
       "    </tr>\n",
       "    <tr>\n",
       "      <th>category</th>\n",
       "      <th></th>\n",
       "      <th></th>\n",
       "      <th></th>\n",
       "    </tr>\n",
       "  </thead>\n",
       "  <tbody>\n",
       "    <tr>\n",
       "      <th>Baby Care</th>\n",
       "      <td>482.509153</td>\n",
       "      <td>548.118952</td>\n",
       "      <td>4.023790</td>\n",
       "    </tr>\n",
       "    <tr>\n",
       "      <th>Bakery, Cakes &amp; Dairy</th>\n",
       "      <td>142.417955</td>\n",
       "      <td>155.518797</td>\n",
       "      <td>3.911128</td>\n",
       "    </tr>\n",
       "    <tr>\n",
       "      <th>Beauty &amp; Hygiene</th>\n",
       "      <td>313.029733</td>\n",
       "      <td>377.969513</td>\n",
       "      <td>3.930655</td>\n",
       "    </tr>\n",
       "    <tr>\n",
       "      <th>Beverages</th>\n",
       "      <td>229.664613</td>\n",
       "      <td>257.758294</td>\n",
       "      <td>4.084676</td>\n",
       "    </tr>\n",
       "    <tr>\n",
       "      <th>Cleaning &amp; Household</th>\n",
       "      <td>201.621419</td>\n",
       "      <td>234.195476</td>\n",
       "      <td>3.956667</td>\n",
       "    </tr>\n",
       "    <tr>\n",
       "      <th>Foodgrains, Oil &amp; Masala</th>\n",
       "      <td>170.542453</td>\n",
       "      <td>196.748746</td>\n",
       "      <td>4.062198</td>\n",
       "    </tr>\n",
       "    <tr>\n",
       "      <th>Gourmet &amp; World Food</th>\n",
       "      <td>264.360175</td>\n",
       "      <td>292.178408</td>\n",
       "      <td>3.984410</td>\n",
       "    </tr>\n",
       "    <tr>\n",
       "      <th>Kitchen, Garden &amp; Pets</th>\n",
       "      <td>460.657186</td>\n",
       "      <td>620.765405</td>\n",
       "      <td>3.734715</td>\n",
       "    </tr>\n",
       "    <tr>\n",
       "      <th>Snacks &amp; Branded Foods</th>\n",
       "      <td>117.962872</td>\n",
       "      <td>126.644188</td>\n",
       "      <td>3.983313</td>\n",
       "    </tr>\n",
       "  </tbody>\n",
       "</table>\n",
       "</div>"
      ],
      "text/plain": [
       "                          sale_price  market_price    rating\n",
       "category                                                    \n",
       "Baby Care                 482.509153    548.118952  4.023790\n",
       "Bakery, Cakes & Dairy     142.417955    155.518797  3.911128\n",
       "Beauty & Hygiene          313.029733    377.969513  3.930655\n",
       "Beverages                 229.664613    257.758294  4.084676\n",
       "Cleaning & Household      201.621419    234.195476  3.956667\n",
       "Foodgrains, Oil & Masala  170.542453    196.748746  4.062198\n",
       "Gourmet & World Food      264.360175    292.178408  3.984410\n",
       "Kitchen, Garden & Pets    460.657186    620.765405  3.734715\n",
       "Snacks & Branded Foods    117.962872    126.644188  3.983313"
      ]
     },
     "execution_count": 9,
     "metadata": {},
     "output_type": "execute_result"
    }
   ],
   "source": [
    "df1.groupby(['category']).mean()"
   ]
  },
  {
   "cell_type": "markdown",
   "id": "5c7794db",
   "metadata": {
    "id": "zIBFArMdmsR3",
    "papermill": {
     "duration": 0.018736,
     "end_time": "2022-11-18T16:07:23.683027",
     "exception": false,
     "start_time": "2022-11-18T16:07:23.664291",
     "status": "completed"
    },
    "tags": []
   },
   "source": [
    "# Highlighting variations of various attributes"
   ]
  },
  {
   "cell_type": "code",
   "execution_count": 10,
   "id": "e60c9117",
   "metadata": {
    "execution": {
     "iopub.execute_input": "2022-11-18T16:07:23.721485Z",
     "iopub.status.busy": "2022-11-18T16:07:23.721045Z",
     "iopub.status.idle": "2022-11-18T16:07:24.500146Z",
     "shell.execute_reply": "2022-11-18T16:07:24.498888Z"
    },
    "id": "5GC50jVgmsR3",
    "outputId": "1e17d7ae-10af-44ad-97a8-7ddfe0d11f91",
    "papermill": {
     "duration": 0.801777,
     "end_time": "2022-11-18T16:07:24.502832",
     "exception": false,
     "start_time": "2022-11-18T16:07:23.701055",
     "status": "completed"
    },
    "tags": []
   },
   "outputs": [
    {
     "data": {
      "text/plain": [
       "(array([0, 1, 2, 3, 4, 5, 6, 7, 8]),\n",
       " [Text(0, 0, 'Beauty & Hygiene'),\n",
       "  Text(1, 0, 'Kitchen, Garden & Pets'),\n",
       "  Text(2, 0, 'Cleaning & Household'),\n",
       "  Text(3, 0, 'Gourmet & World Food'),\n",
       "  Text(4, 0, 'Foodgrains, Oil & Masala'),\n",
       "  Text(5, 0, 'Snacks & Branded Foods'),\n",
       "  Text(6, 0, 'Beverages'),\n",
       "  Text(7, 0, 'Bakery, Cakes & Dairy'),\n",
       "  Text(8, 0, 'Baby Care')])"
      ]
     },
     "execution_count": 10,
     "metadata": {},
     "output_type": "execute_result"
    },
    {
     "data": {
      "image/png": "[encoded data removed]",
      "text/plain": [
       "<Figure size 720x720 with 1 Axes>"
      ]
     },
     "metadata": {
      "needs_background": "light"
     },
     "output_type": "display_data"
    }
   ],
   "source": [
    "plt.figure(figsize=(10,10))\n",
    "sns.barplot(x=df1['category'], y=df1['rating'])\n",
    "plt.xlabel(\"category\")\n",
    "plt.title(\"Variation of mean rating with category\")\n",
    "plt.xticks(rotation = 60)"
   ]
  },
  {
   "cell_type": "code",
   "execution_count": 11,
   "id": "6f1961fe",
   "metadata": {
    "execution": {
     "iopub.execute_input": "2022-11-18T16:07:24.542369Z",
     "iopub.status.busy": "2022-11-18T16:07:24.541905Z",
     "iopub.status.idle": "2022-11-18T16:07:25.289437Z",
     "shell.execute_reply": "2022-11-18T16:07:25.288155Z"
    },
    "id": "EVb1_ZKcDrQl",
    "outputId": "cd738a00-9fe2-4745-f492-00c77eb7eab5",
    "papermill": {
     "duration": 0.770237,
     "end_time": "2022-11-18T16:07:25.291984",
     "exception": false,
     "start_time": "2022-11-18T16:07:24.521747",
     "status": "completed"
    },
    "tags": []
   },
   "outputs": [
    {
     "data": {
      "text/plain": [
       "(array([0, 1, 2, 3, 4, 5, 6, 7, 8]),\n",
       " [Text(0, 0, 'Beauty & Hygiene'),\n",
       "  Text(1, 0, 'Kitchen, Garden & Pets'),\n",
       "  Text(2, 0, 'Cleaning & Household'),\n",
       "  Text(3, 0, 'Gourmet & World Food'),\n",
       "  Text(4, 0, 'Foodgrains, Oil & Masala'),\n",
       "  Text(5, 0, 'Snacks & Branded Foods'),\n",
       "  Text(6, 0, 'Beverages'),\n",
       "  Text(7, 0, 'Bakery, Cakes & Dairy'),\n",
       "  Text(8, 0, 'Baby Care')])"
      ]
     },
     "execution_count": 11,
     "metadata": {},
     "output_type": "execute_result"
    },
    {
     "data": {
      "image/png": "[encoded data removed]",
      "text/plain": [
       "<Figure size 720x720 with 1 Axes>"
      ]
     },
     "metadata": {
      "needs_background": "light"
     },
     "output_type": "display_data"
    }
   ],
   "source": [
    "plt.figure(figsize=(10,10))\n",
    "sns.barplot(x=df1['category'], y=df1['sale_price'])\n",
    "plt.xlabel(\"category\")\n",
    "plt.title(\"Variation of mean sale price with category\")\n",
    "plt.xticks(rotation = 60)"
   ]
  },
  {
   "cell_type": "markdown",
   "id": "de05c787",
   "metadata": {
    "id": "HS9FkTsVAyqJ",
    "papermill": {
     "duration": 0.019446,
     "end_time": "2022-11-18T16:07:25.330879",
     "exception": false,
     "start_time": "2022-11-18T16:07:25.311433",
     "status": "completed"
    },
    "tags": []
   },
   "source": [
    "# What does the customer rating look like and is it skewed?"
   ]
  },
  {
   "cell_type": "code",
   "execution_count": 12,
   "id": "d3a8c769",
   "metadata": {
    "execution": {
     "iopub.execute_input": "2022-11-18T16:07:25.394112Z",
     "iopub.status.busy": "2022-11-18T16:07:25.393543Z",
     "iopub.status.idle": "2022-11-18T16:07:26.065402Z",
     "shell.execute_reply": "2022-11-18T16:07:26.064141Z"
    },
    "id": "f2OY8y_PAxJX",
    "outputId": "7f3c1523-237d-4532-c7fd-b94f880be18a",
    "papermill": {
     "duration": 0.709431,
     "end_time": "2022-11-18T16:07:26.068274",
     "exception": false,
     "start_time": "2022-11-18T16:07:25.358843",
     "status": "completed"
    },
    "tags": []
   },
   "outputs": [
    {
     "data": {
      "text/plain": [
       "<matplotlib.legend.Legend at 0x7f841d4c1d90>"
      ]
     },
     "execution_count": 12,
     "metadata": {},
     "output_type": "execute_result"
    },
    {
     "data": {
      "image/png": "[encoded data removed]",
      "text/plain": [
       "<Figure size 360x360 with 1 Axes>"
      ]
     },
     "metadata": {
      "needs_background": "light"
     },
     "output_type": "display_data"
    }
   ],
   "source": [
    "sns.displot(df1['rating'])\n",
    "plt.axvline(x=np.mean(df1['rating']), c='red', ls='--', label='mean')\n",
    "plt.axvline(x=np.percentile(df1['rating'],25),c='green', ls='--', label = '25th percentile:Q1')\n",
    "plt.axvline(x=np.percentile(df1['rating'],75),c='orange', ls='--',label = '75th percentile:Q3' )\n",
    "plt.legend()"
   ]
  },
  {
   "cell_type": "markdown",
   "id": "74b33720",
   "metadata": {
    "id": "bXKHL7cVBWv-",
    "papermill": {
     "duration": 0.019924,
     "end_time": "2022-11-18T16:07:26.108485",
     "exception": false,
     "start_time": "2022-11-18T16:07:26.088561",
     "status": "completed"
    },
    "tags": []
   },
   "source": [
    "The graph of rating displays a slight negative skew."
   ]
  },
  {
   "cell_type": "markdown",
   "id": "7457f970",
   "metadata": {
    "id": "05GZs8EdmsR4",
    "papermill": {
     "duration": 0.019711,
     "end_time": "2022-11-18T16:07:26.148114",
     "exception": false,
     "start_time": "2022-11-18T16:07:26.128403",
     "status": "completed"
    },
    "tags": []
   },
   "source": [
    "# To check whether the sale price and category vary with the rating of the item we perform ANOVAs."
   ]
  },
  {
   "cell_type": "code",
   "execution_count": 13,
   "id": "02727fd5",
   "metadata": {
    "execution": {
     "iopub.execute_input": "2022-11-18T16:07:26.190681Z",
     "iopub.status.busy": "2022-11-18T16:07:26.189848Z",
     "iopub.status.idle": "2022-11-18T16:07:26.312209Z",
     "shell.execute_reply": "2022-11-18T16:07:26.310988Z"
    },
    "id": "LIorab3cq_1F",
    "outputId": "4d825bb2-2beb-467d-8151-fa73d523d221",
    "papermill": {
     "duration": 0.14852,
     "end_time": "2022-11-18T16:07:26.316481",
     "exception": false,
     "start_time": "2022-11-18T16:07:26.167961",
     "status": "completed"
    },
    "tags": []
   },
   "outputs": [
    {
     "data": {
      "text/html": [
       "<div>\n",
       "<style scoped>\n",
       "    .dataframe tbody tr th:only-of-type {\n",
       "        vertical-align: middle;\n",
       "    }\n",
       "\n",
       "    .dataframe tbody tr th {\n",
       "        vertical-align: top;\n",
       "    }\n",
       "\n",
       "    .dataframe thead th {\n",
       "        text-align: right;\n",
       "    }\n",
       "</style>\n",
       "<table border=\"1\" class=\"dataframe\">\n",
       "  <thead>\n",
       "    <tr style=\"text-align: right;\">\n",
       "      <th></th>\n",
       "      <th>sum_sq</th>\n",
       "      <th>df</th>\n",
       "      <th>F</th>\n",
       "      <th>PR(&gt;F)</th>\n",
       "    </tr>\n",
       "  </thead>\n",
       "  <tbody>\n",
       "    <tr>\n",
       "      <th>C(category)</th>\n",
       "      <td>165.972329</td>\n",
       "      <td>8.0</td>\n",
       "      <td>38.584027</td>\n",
       "      <td>1.943145e-61</td>\n",
       "    </tr>\n",
       "    <tr>\n",
       "      <th>Residual</th>\n",
       "      <td>10172.702175</td>\n",
       "      <td>18919.0</td>\n",
       "      <td>NaN</td>\n",
       "      <td>NaN</td>\n",
       "    </tr>\n",
       "  </tbody>\n",
       "</table>\n",
       "</div>"
      ],
      "text/plain": [
       "                   sum_sq       df          F        PR(>F)\n",
       "C(category)    165.972329      8.0  38.584027  1.943145e-61\n",
       "Residual     10172.702175  18919.0        NaN           NaN"
      ]
     },
     "execution_count": 13,
     "metadata": {},
     "output_type": "execute_result"
    }
   ],
   "source": [
    "model = ols('rating ~ C(category)', data=df1).fit()\n",
    "aov_table = sm.stats.anova_lm(model, typ=2)\n",
    "aov_table"
   ]
  },
  {
   "cell_type": "markdown",
   "id": "87d1e763",
   "metadata": {
    "id": "xFVJQbCAsDkQ",
    "papermill": {
     "duration": 0.047608,
     "end_time": "2022-11-18T16:07:26.417826",
     "exception": false,
     "start_time": "2022-11-18T16:07:26.370218",
     "status": "completed"
    },
    "tags": []
   },
   "source": [
    "Since the p-value is much lesser than 0.05 we can reject the null hypothesis i.e. we can say that the rating of the product does vary with category."
   ]
  },
  {
   "cell_type": "code",
   "execution_count": 14,
   "id": "d41c9614",
   "metadata": {
    "execution": {
     "iopub.execute_input": "2022-11-18T16:07:26.461756Z",
     "iopub.status.busy": "2022-11-18T16:07:26.461321Z",
     "iopub.status.idle": "2022-11-18T16:08:13.443562Z",
     "shell.execute_reply": "2022-11-18T16:08:13.442376Z"
    },
    "id": "JR7dWwyFsmyW",
    "outputId": "11973aa8-0691-4a2d-841c-2745062062a5",
    "papermill": {
     "duration": 47.060073,
     "end_time": "2022-11-18T16:08:13.498354",
     "exception": false,
     "start_time": "2022-11-18T16:07:26.438281",
     "status": "completed"
    },
    "tags": []
   },
   "outputs": [
    {
     "data": {
      "text/html": [
       "<div>\n",
       "<style scoped>\n",
       "    .dataframe tbody tr th:only-of-type {\n",
       "        vertical-align: middle;\n",
       "    }\n",
       "\n",
       "    .dataframe tbody tr th {\n",
       "        vertical-align: top;\n",
       "    }\n",
       "\n",
       "    .dataframe thead th {\n",
       "        text-align: right;\n",
       "    }\n",
       "</style>\n",
       "<table border=\"1\" class=\"dataframe\">\n",
       "  <thead>\n",
       "    <tr style=\"text-align: right;\">\n",
       "      <th></th>\n",
       "      <th>sum_sq</th>\n",
       "      <th>df</th>\n",
       "      <th>F</th>\n",
       "      <th>PR(&gt;F)</th>\n",
       "    </tr>\n",
       "  </thead>\n",
       "  <tbody>\n",
       "    <tr>\n",
       "      <th>C(sale_price)</th>\n",
       "      <td>1787.490017</td>\n",
       "      <td>2446.0</td>\n",
       "      <td>1.40846</td>\n",
       "      <td>9.805353e-32</td>\n",
       "    </tr>\n",
       "    <tr>\n",
       "      <th>Residual</th>\n",
       "      <td>8551.184487</td>\n",
       "      <td>16481.0</td>\n",
       "      <td>NaN</td>\n",
       "      <td>NaN</td>\n",
       "    </tr>\n",
       "  </tbody>\n",
       "</table>\n",
       "</div>"
      ],
      "text/plain": [
       "                    sum_sq       df        F        PR(>F)\n",
       "C(sale_price)  1787.490017   2446.0  1.40846  9.805353e-32\n",
       "Residual       8551.184487  16481.0      NaN           NaN"
      ]
     },
     "execution_count": 14,
     "metadata": {},
     "output_type": "execute_result"
    }
   ],
   "source": [
    "model = ols('rating ~ C(sale_price)', data=df1).fit()\n",
    "aov_table = sm.stats.anova_lm(model, typ=2)\n",
    "aov_table"
   ]
  },
  {
   "cell_type": "markdown",
   "id": "7f9ac9ec",
   "metadata": {
    "id": "5KzCFG8UtBey",
    "papermill": {
     "duration": 0.033167,
     "end_time": "2022-11-18T16:08:13.580367",
     "exception": false,
     "start_time": "2022-11-18T16:08:13.547200",
     "status": "completed"
    },
    "tags": []
   },
   "source": [
    "Since the p-value is much lesser than 0.05 we can reject the null hypothesis i.e. we can say that the rating of the product does vary with sale price."
   ]
  },
  {
   "cell_type": "markdown",
   "id": "88917e5f",
   "metadata": {
    "id": "EUY7X-Ydn9Pp",
    "papermill": {
     "duration": 0.028181,
     "end_time": "2022-11-18T16:08:13.640093",
     "exception": false,
     "start_time": "2022-11-18T16:08:13.611912",
     "status": "completed"
    },
    "tags": []
   },
   "source": [
    "# We add a relevant column \"Discount\""
   ]
  },
  {
   "cell_type": "code",
   "execution_count": 15,
   "id": "19b53eb8",
   "metadata": {
    "execution": {
     "iopub.execute_input": "2022-11-18T16:08:13.691142Z",
     "iopub.status.busy": "2022-11-18T16:08:13.690736Z",
     "iopub.status.idle": "2022-11-18T16:08:13.709597Z",
     "shell.execute_reply": "2022-11-18T16:08:13.708101Z"
    },
    "id": "cNLnzzANoCeu",
    "outputId": "a6d6d428-0592-4671-8179-be68288bf70c",
    "papermill": {
     "duration": 0.043414,
     "end_time": "2022-11-18T16:08:13.712251",
     "exception": false,
     "start_time": "2022-11-18T16:08:13.668837",
     "status": "completed"
    },
    "tags": []
   },
   "outputs": [
    {
     "name": "stderr",
     "output_type": "stream",
     "text": [
      "/opt/conda/lib/python3.7/site-packages/ipykernel_launcher.py:1: SettingWithCopyWarning: \n",
      "A value is trying to be set on a copy of a slice from a DataFrame.\n",
      "Try using .loc[row_indexer,col_indexer] = value instead\n",
      "\n",
      "See the caveats in the documentation: https://pandas.pydata.org/pandas-docs/stable/user_guide/indexing.html#returning-a-view-versus-a-copy\n",
      "  \"\"\"Entry point for launching an IPython kernel.\n"
     ]
    },
    {
     "data": {
      "text/html": [
       "<div>\n",
       "<style scoped>\n",
       "    .dataframe tbody tr th:only-of-type {\n",
       "        vertical-align: middle;\n",
       "    }\n",
       "\n",
       "    .dataframe tbody tr th {\n",
       "        vertical-align: top;\n",
       "    }\n",
       "\n",
       "    .dataframe thead th {\n",
       "        text-align: right;\n",
       "    }\n",
       "</style>\n",
       "<table border=\"1\" class=\"dataframe\">\n",
       "  <thead>\n",
       "    <tr style=\"text-align: right;\">\n",
       "      <th></th>\n",
       "      <th>category</th>\n",
       "      <th>sale_price</th>\n",
       "      <th>market_price</th>\n",
       "      <th>rating</th>\n",
       "      <th>discount</th>\n",
       "    </tr>\n",
       "  </thead>\n",
       "  <tbody>\n",
       "    <tr>\n",
       "      <th>0</th>\n",
       "      <td>Beauty &amp; Hygiene</td>\n",
       "      <td>220.0</td>\n",
       "      <td>220.0</td>\n",
       "      <td>4.1</td>\n",
       "      <td>0.000000</td>\n",
       "    </tr>\n",
       "    <tr>\n",
       "      <th>1</th>\n",
       "      <td>Kitchen, Garden &amp; Pets</td>\n",
       "      <td>180.0</td>\n",
       "      <td>180.0</td>\n",
       "      <td>2.3</td>\n",
       "      <td>0.000000</td>\n",
       "    </tr>\n",
       "    <tr>\n",
       "      <th>2</th>\n",
       "      <td>Cleaning &amp; Household</td>\n",
       "      <td>119.0</td>\n",
       "      <td>250.0</td>\n",
       "      <td>3.4</td>\n",
       "      <td>52.400000</td>\n",
       "    </tr>\n",
       "    <tr>\n",
       "      <th>3</th>\n",
       "      <td>Cleaning &amp; Household</td>\n",
       "      <td>149.0</td>\n",
       "      <td>176.0</td>\n",
       "      <td>3.7</td>\n",
       "      <td>15.340909</td>\n",
       "    </tr>\n",
       "    <tr>\n",
       "      <th>4</th>\n",
       "      <td>Beauty &amp; Hygiene</td>\n",
       "      <td>162.0</td>\n",
       "      <td>162.0</td>\n",
       "      <td>4.4</td>\n",
       "      <td>0.000000</td>\n",
       "    </tr>\n",
       "  </tbody>\n",
       "</table>\n",
       "</div>"
      ],
      "text/plain": [
       "                 category  sale_price  market_price  rating   discount\n",
       "0        Beauty & Hygiene       220.0         220.0     4.1   0.000000\n",
       "1  Kitchen, Garden & Pets       180.0         180.0     2.3   0.000000\n",
       "2    Cleaning & Household       119.0         250.0     3.4  52.400000\n",
       "3    Cleaning & Household       149.0         176.0     3.7  15.340909\n",
       "4        Beauty & Hygiene       162.0         162.0     4.4   0.000000"
      ]
     },
     "execution_count": 15,
     "metadata": {},
     "output_type": "execute_result"
    }
   ],
   "source": [
    "df1[\"discount\"] = 100 * (df1['market_price'] - df1[\"sale_price\"])/df1[\"market_price\"]\n",
    "df1.head()"
   ]
  },
  {
   "cell_type": "markdown",
   "id": "e2df5a1a",
   "metadata": {
    "id": "mh0z74Szu3cP",
    "papermill": {
     "duration": 0.020616,
     "end_time": "2022-11-18T16:08:13.754454",
     "exception": false,
     "start_time": "2022-11-18T16:08:13.733838",
     "status": "completed"
    },
    "tags": []
   },
   "source": [
    "# Next we perform correlation analysis on the concerned attributes."
   ]
  },
  {
   "cell_type": "code",
   "execution_count": 16,
   "id": "44934278",
   "metadata": {
    "execution": {
     "iopub.execute_input": "2022-11-18T16:08:13.798465Z",
     "iopub.status.busy": "2022-11-18T16:08:13.798062Z",
     "iopub.status.idle": "2022-11-18T16:08:14.119489Z",
     "shell.execute_reply": "2022-11-18T16:08:14.118607Z"
    },
    "id": "A4JP4xcQnuDy",
    "papermill": {
     "duration": 0.346663,
     "end_time": "2022-11-18T16:08:14.122065",
     "exception": false,
     "start_time": "2022-11-18T16:08:13.775402",
     "status": "completed"
    },
    "tags": []
   },
   "outputs": [
    {
     "data": {
      "text/plain": [
       "<AxesSubplot:>"
      ]
     },
     "execution_count": 16,
     "metadata": {},
     "output_type": "execute_result"
    },
    {
     "data": {
      "image/png": "[encoded data removed]",
      "text/plain": [
       "<Figure size 432x288 with 2 Axes>"
      ]
     },
     "metadata": {
      "needs_background": "light"
     },
     "output_type": "display_data"
    }
   ],
   "source": [
    "sns.heatmap(np.round(df1.corr(),2), annot=True)"
   ]
  },
  {
   "cell_type": "code",
   "execution_count": 17,
   "id": "e0f22dad",
   "metadata": {
    "execution": {
     "iopub.execute_input": "2022-11-18T16:08:14.165440Z",
     "iopub.status.busy": "2022-11-18T16:08:14.165028Z",
     "iopub.status.idle": "2022-11-18T16:08:14.181644Z",
     "shell.execute_reply": "2022-11-18T16:08:14.180004Z"
    },
    "id": "RvpU_ABGu9Ks",
    "papermill": {
     "duration": 0.043104,
     "end_time": "2022-11-18T16:08:14.185935",
     "exception": false,
     "start_time": "2022-11-18T16:08:14.142831",
     "status": "completed"
    },
    "tags": []
   },
   "outputs": [
    {
     "data": {
      "text/plain": [
       "-0.0792820446662662"
      ]
     },
     "execution_count": 17,
     "metadata": {},
     "output_type": "execute_result"
    }
   ],
   "source": [
    "corr, _ = pearsonr(df1[\"rating\"], df1[\"sale_price\"])\n",
    "corr"
   ]
  },
  {
   "cell_type": "markdown",
   "id": "74758824",
   "metadata": {
    "id": "b7f4Xd2PyTuF",
    "papermill": {
     "duration": 0.051679,
     "end_time": "2022-11-18T16:08:14.291441",
     "exception": false,
     "start_time": "2022-11-18T16:08:14.239762",
     "status": "completed"
    },
    "tags": []
   },
   "source": [
    "There is no linear correlation here."
   ]
  },
  {
   "cell_type": "code",
   "execution_count": 18,
   "id": "1794f228",
   "metadata": {
    "execution": {
     "iopub.execute_input": "2022-11-18T16:08:14.335165Z",
     "iopub.status.busy": "2022-11-18T16:08:14.334767Z",
     "iopub.status.idle": "2022-11-18T16:08:14.348354Z",
     "shell.execute_reply": "2022-11-18T16:08:14.346645Z"
    },
    "id": "UBIBl9JB0Qyq",
    "papermill": {
     "duration": 0.038544,
     "end_time": "2022-11-18T16:08:14.351044",
     "exception": false,
     "start_time": "2022-11-18T16:08:14.312500",
     "status": "completed"
    },
    "tags": []
   },
   "outputs": [
    {
     "name": "stdout",
     "output_type": "stream",
     "text": [
      "Spearmans correlation coefficient: -0.049\n",
      "Samples are correlated (reject H0) p=-0.049\n"
     ]
    }
   ],
   "source": [
    "coef, p = spearmanr(df1[\"rating\"], df1[\"sale_price\"])\n",
    "print('Spearmans correlation coefficient: %.3f' % coef)\n",
    "# interpret the significance\n",
    "alpha = 0.05\n",
    "if p > alpha:\n",
    "\tprint('Samples are uncorrelated (fail to reject H0) p=%.3f' % coef)\n",
    "else:\n",
    "\tprint('Samples are correlated (reject H0) p=%.3f' % coef)"
   ]
  },
  {
   "cell_type": "code",
   "execution_count": 19,
   "id": "73348c0d",
   "metadata": {
    "execution": {
     "iopub.execute_input": "2022-11-18T16:08:14.394998Z",
     "iopub.status.busy": "2022-11-18T16:08:14.394203Z",
     "iopub.status.idle": "2022-11-18T16:08:14.426304Z",
     "shell.execute_reply": "2022-11-18T16:08:14.424549Z"
    },
    "id": "IfzA6Bly02rp",
    "papermill": {
     "duration": 0.057126,
     "end_time": "2022-11-18T16:08:14.429150",
     "exception": false,
     "start_time": "2022-11-18T16:08:14.372024",
     "status": "completed"
    },
    "tags": []
   },
   "outputs": [
    {
     "name": "stdout",
     "output_type": "stream",
     "text": [
      "Spearmans correlation coefficient: -0.057\n",
      "Samples are correlated (reject H0) p=-0.057\n"
     ]
    }
   ],
   "source": [
    "coef, p = spearmanr(df1[\"rating\"], df1[\"category\"])\n",
    "print('Spearmans correlation coefficient: %.3f' % coef)\n",
    "# interpret the significance\n",
    "alpha = 0.05\n",
    "if p > alpha:\n",
    "\tprint('Samples are uncorrelated (fail to reject H0) p=%.3f' % coef)\n",
    "else:\n",
    "\tprint('Samples are correlated (reject H0) p=%.3f' % coef)"
   ]
  },
  {
   "cell_type": "code",
   "execution_count": 20,
   "id": "252f4f43",
   "metadata": {
    "execution": {
     "iopub.execute_input": "2022-11-18T16:08:14.473296Z",
     "iopub.status.busy": "2022-11-18T16:08:14.472898Z",
     "iopub.status.idle": "2022-11-18T16:08:14.792469Z",
     "shell.execute_reply": "2022-11-18T16:08:14.791616Z"
    },
    "id": "Z8rPKmoSnDVa",
    "papermill": {
     "duration": 0.344072,
     "end_time": "2022-11-18T16:08:14.794752",
     "exception": false,
     "start_time": "2022-11-18T16:08:14.450680",
     "status": "completed"
    },
    "tags": []
   },
   "outputs": [
    {
     "data": {
      "text/plain": [
       "<AxesSubplot:>"
      ]
     },
     "execution_count": 20,
     "metadata": {},
     "output_type": "execute_result"
    },
    {
     "data": {
      "image/png": "[encoded data removed]",
      "text/plain": [
       "<Figure size 432x288 with 2 Axes>"
      ]
     },
     "metadata": {
      "needs_background": "light"
     },
     "output_type": "display_data"
    }
   ],
   "source": [
    "sns.heatmap(np.round(df.corr(),2), annot=True)"
   ]
  },
  {
   "cell_type": "markdown",
   "id": "ea275c43",
   "metadata": {
    "id": "7IWqBEK4CMcN",
    "papermill": {
     "duration": 0.021132,
     "end_time": "2022-11-18T16:08:14.837832",
     "exception": false,
     "start_time": "2022-11-18T16:08:14.816700",
     "status": "completed"
    },
    "tags": []
   },
   "source": [
    "#Inferencing conclusions from EDA"
   ]
  },
  {
   "cell_type": "markdown",
   "id": "0b1abdcc",
   "metadata": {
    "id": "G1tIFF7zkieV",
    "papermill": {
     "duration": 0.021613,
     "end_time": "2022-11-18T16:08:14.880879",
     "exception": false,
     "start_time": "2022-11-18T16:08:14.859266",
     "status": "completed"
    },
    "tags": []
   },
   "source": [
    "# What category should bigbasket focus on selling?"
   ]
  },
  {
   "cell_type": "code",
   "execution_count": 21,
   "id": "c891e86f",
   "metadata": {
    "execution": {
     "iopub.execute_input": "2022-11-18T16:08:14.925928Z",
     "iopub.status.busy": "2022-11-18T16:08:14.925210Z",
     "iopub.status.idle": "2022-11-18T16:08:15.619992Z",
     "shell.execute_reply": "2022-11-18T16:08:15.618970Z"
    },
    "id": "kxwwKSHzCVYO",
    "papermill": {
     "duration": 0.720181,
     "end_time": "2022-11-18T16:08:15.622451",
     "exception": false,
     "start_time": "2022-11-18T16:08:14.902270",
     "status": "completed"
    },
    "tags": []
   },
   "outputs": [
    {
     "data": {
      "text/plain": [
       "([<matplotlib.axis.XTick at 0x7f841d3ce090>,\n",
       "  <matplotlib.axis.XTick at 0x7f841d3ced90>,\n",
       "  <matplotlib.axis.XTick at 0x7f841d449990>,\n",
       "  <matplotlib.axis.XTick at 0x7f841d3ff2d0>,\n",
       "  <matplotlib.axis.XTick at 0x7f841d3ec290>,\n",
       "  <matplotlib.axis.XTick at 0x7f841d3f32d0>],\n",
       " [Text(0, 0, ''),\n",
       "  Text(0, 0, ''),\n",
       "  Text(0, 0, ''),\n",
       "  Text(0, 0, ''),\n",
       "  Text(0, 0, ''),\n",
       "  Text(0, 0, '')])"
      ]
     },
     "execution_count": 21,
     "metadata": {},
     "output_type": "execute_result"
    },
    {
     "data": {
      "image/png": "[encoded data removed]",
      "text/plain": [
       "<Figure size 864x432 with 1 Axes>"
      ]
     },
     "metadata": {
      "needs_background": "light"
     },
     "output_type": "display_data"
    }
   ],
   "source": [
    "xdata = [0,1,2,3,4,5]\n",
    "plt.figure(figsize = (12,6))\n",
    "sns.barplot(y = df1['category'], x = df1['rating'])\n",
    "plt.xticks(xdata)"
   ]
  },
  {
   "cell_type": "markdown",
   "id": "e49ae4d0",
   "metadata": {
    "id": "FzrQwm-lIzJn",
    "papermill": {
     "duration": 0.021429,
     "end_time": "2022-11-18T16:08:15.665977",
     "exception": false,
     "start_time": "2022-11-18T16:08:15.644548",
     "status": "completed"
    },
    "tags": []
   },
   "source": [
    "Clearly, BigBasket should focus more on selling Foodgrains, Oil & Masala items than Kitchen, Garden & Pets items"
   ]
  },
  {
   "cell_type": "markdown",
   "id": "b323e0ac",
   "metadata": {
    "id": "cDpiaicrrH0q",
    "papermill": {
     "duration": 0.022074,
     "end_time": "2022-11-18T16:08:15.710137",
     "exception": false,
     "start_time": "2022-11-18T16:08:15.688063",
     "status": "completed"
    },
    "tags": []
   },
   "source": [
    "# Modeling"
   ]
  },
  {
   "cell_type": "markdown",
   "id": "6318ff6f",
   "metadata": {
    "id": "t03DIQwesZWq",
    "papermill": {
     "duration": 0.021567,
     "end_time": "2022-11-18T16:08:15.753908",
     "exception": false,
     "start_time": "2022-11-18T16:08:15.732341",
     "status": "completed"
    },
    "tags": []
   },
   "source": [
    "Owing to the presence of a categorical independent variable \"Category\", we set dummy variables while attempting a regression model."
   ]
  },
  {
   "cell_type": "code",
   "execution_count": 22,
   "id": "db011fc4",
   "metadata": {
    "execution": {
     "iopub.execute_input": "2022-11-18T16:08:15.801365Z",
     "iopub.status.busy": "2022-11-18T16:08:15.800369Z",
     "iopub.status.idle": "2022-11-18T16:08:15.824614Z",
     "shell.execute_reply": "2022-11-18T16:08:15.823528Z"
    },
    "id": "sMypgyCurM6F",
    "papermill": {
     "duration": 0.050337,
     "end_time": "2022-11-18T16:08:15.826943",
     "exception": false,
     "start_time": "2022-11-18T16:08:15.776606",
     "status": "completed"
    },
    "tags": []
   },
   "outputs": [
    {
     "data": {
      "text/html": [
       "<div>\n",
       "<style scoped>\n",
       "    .dataframe tbody tr th:only-of-type {\n",
       "        vertical-align: middle;\n",
       "    }\n",
       "\n",
       "    .dataframe tbody tr th {\n",
       "        vertical-align: top;\n",
       "    }\n",
       "\n",
       "    .dataframe thead th {\n",
       "        text-align: right;\n",
       "    }\n",
       "</style>\n",
       "<table border=\"1\" class=\"dataframe\">\n",
       "  <thead>\n",
       "    <tr style=\"text-align: right;\">\n",
       "      <th></th>\n",
       "      <th>sale_price</th>\n",
       "      <th>market_price</th>\n",
       "      <th>rating</th>\n",
       "      <th>discount</th>\n",
       "      <th>Baby Care</th>\n",
       "      <th>Bakery, Cakes &amp; Dairy</th>\n",
       "      <th>Beauty &amp; Hygiene</th>\n",
       "      <th>Beverages</th>\n",
       "      <th>Cleaning &amp; Household</th>\n",
       "      <th>Foodgrains, Oil &amp; Masala</th>\n",
       "      <th>Gourmet &amp; World Food</th>\n",
       "      <th>Kitchen, Garden &amp; Pets</th>\n",
       "      <th>Snacks &amp; Branded Foods</th>\n",
       "    </tr>\n",
       "  </thead>\n",
       "  <tbody>\n",
       "    <tr>\n",
       "      <th>0</th>\n",
       "      <td>220.0</td>\n",
       "      <td>220.0</td>\n",
       "      <td>4.1</td>\n",
       "      <td>0.000000</td>\n",
       "      <td>0</td>\n",
       "      <td>0</td>\n",
       "      <td>1</td>\n",
       "      <td>0</td>\n",
       "      <td>0</td>\n",
       "      <td>0</td>\n",
       "      <td>0</td>\n",
       "      <td>0</td>\n",
       "      <td>0</td>\n",
       "    </tr>\n",
       "    <tr>\n",
       "      <th>1</th>\n",
       "      <td>180.0</td>\n",
       "      <td>180.0</td>\n",
       "      <td>2.3</td>\n",
       "      <td>0.000000</td>\n",
       "      <td>0</td>\n",
       "      <td>0</td>\n",
       "      <td>0</td>\n",
       "      <td>0</td>\n",
       "      <td>0</td>\n",
       "      <td>0</td>\n",
       "      <td>0</td>\n",
       "      <td>1</td>\n",
       "      <td>0</td>\n",
       "    </tr>\n",
       "    <tr>\n",
       "      <th>2</th>\n",
       "      <td>119.0</td>\n",
       "      <td>250.0</td>\n",
       "      <td>3.4</td>\n",
       "      <td>52.400000</td>\n",
       "      <td>0</td>\n",
       "      <td>0</td>\n",
       "      <td>0</td>\n",
       "      <td>0</td>\n",
       "      <td>1</td>\n",
       "      <td>0</td>\n",
       "      <td>0</td>\n",
       "      <td>0</td>\n",
       "      <td>0</td>\n",
       "    </tr>\n",
       "    <tr>\n",
       "      <th>3</th>\n",
       "      <td>149.0</td>\n",
       "      <td>176.0</td>\n",
       "      <td>3.7</td>\n",
       "      <td>15.340909</td>\n",
       "      <td>0</td>\n",
       "      <td>0</td>\n",
       "      <td>0</td>\n",
       "      <td>0</td>\n",
       "      <td>1</td>\n",
       "      <td>0</td>\n",
       "      <td>0</td>\n",
       "      <td>0</td>\n",
       "      <td>0</td>\n",
       "    </tr>\n",
       "    <tr>\n",
       "      <th>4</th>\n",
       "      <td>162.0</td>\n",
       "      <td>162.0</td>\n",
       "      <td>4.4</td>\n",
       "      <td>0.000000</td>\n",
       "      <td>0</td>\n",
       "      <td>0</td>\n",
       "      <td>1</td>\n",
       "      <td>0</td>\n",
       "      <td>0</td>\n",
       "      <td>0</td>\n",
       "      <td>0</td>\n",
       "      <td>0</td>\n",
       "      <td>0</td>\n",
       "    </tr>\n",
       "  </tbody>\n",
       "</table>\n",
       "</div>"
      ],
      "text/plain": [
       "   sale_price  market_price  rating   discount  Baby Care  \\\n",
       "0       220.0         220.0     4.1   0.000000          0   \n",
       "1       180.0         180.0     2.3   0.000000          0   \n",
       "2       119.0         250.0     3.4  52.400000          0   \n",
       "3       149.0         176.0     3.7  15.340909          0   \n",
       "4       162.0         162.0     4.4   0.000000          0   \n",
       "\n",
       "   Bakery, Cakes & Dairy  Beauty & Hygiene  Beverages  Cleaning & Household  \\\n",
       "0                      0                 1          0                     0   \n",
       "1                      0                 0          0                     0   \n",
       "2                      0                 0          0                     1   \n",
       "3                      0                 0          0                     1   \n",
       "4                      0                 1          0                     0   \n",
       "\n",
       "   Foodgrains, Oil & Masala  Gourmet & World Food  Kitchen, Garden & Pets  \\\n",
       "0                         0                     0                       0   \n",
       "1                         0                     0                       1   \n",
       "2                         0                     0                       0   \n",
       "3                         0                     0                       0   \n",
       "4                         0                     0                       0   \n",
       "\n",
       "   Snacks & Branded Foods  \n",
       "0                       0  \n",
       "1                       0  \n",
       "2                       0  \n",
       "3                       0  \n",
       "4                       0  "
      ]
     },
     "execution_count": 22,
     "metadata": {},
     "output_type": "execute_result"
    }
   ],
   "source": [
    "df_dummy = pd.get_dummies(df1[\"category\"])\n",
    "df2 = pd.concat([df1,df_dummy], axis = 1)\n",
    "df2.drop([\"category\"], inplace = True, axis = 1)\n",
    "df2.head()"
   ]
  },
  {
   "cell_type": "markdown",
   "id": "d39dcc3b",
   "metadata": {
    "id": "ZANKoWGEvaoK",
    "papermill": {
     "duration": 0.021946,
     "end_time": "2022-11-18T16:08:15.872093",
     "exception": false,
     "start_time": "2022-11-18T16:08:15.850147",
     "status": "completed"
    },
    "tags": []
   },
   "source": [
    "We can now drop either of sale price or market price column as they are highly correlated and we have made a discount column regardless."
   ]
  },
  {
   "cell_type": "code",
   "execution_count": 23,
   "id": "ebf58dd8",
   "metadata": {
    "execution": {
     "iopub.execute_input": "2022-11-18T16:08:15.918840Z",
     "iopub.status.busy": "2022-11-18T16:08:15.918119Z",
     "iopub.status.idle": "2022-11-18T16:08:15.934972Z",
     "shell.execute_reply": "2022-11-18T16:08:15.934034Z"
    },
    "id": "n_ZA1zPJvjVM",
    "papermill": {
     "duration": 0.043127,
     "end_time": "2022-11-18T16:08:15.937415",
     "exception": false,
     "start_time": "2022-11-18T16:08:15.894288",
     "status": "completed"
    },
    "tags": []
   },
   "outputs": [
    {
     "data": {
      "text/html": [
       "<div>\n",
       "<style scoped>\n",
       "    .dataframe tbody tr th:only-of-type {\n",
       "        vertical-align: middle;\n",
       "    }\n",
       "\n",
       "    .dataframe tbody tr th {\n",
       "        vertical-align: top;\n",
       "    }\n",
       "\n",
       "    .dataframe thead th {\n",
       "        text-align: right;\n",
       "    }\n",
       "</style>\n",
       "<table border=\"1\" class=\"dataframe\">\n",
       "  <thead>\n",
       "    <tr style=\"text-align: right;\">\n",
       "      <th></th>\n",
       "      <th>sale_price</th>\n",
       "      <th>rating</th>\n",
       "      <th>discount</th>\n",
       "      <th>Baby Care</th>\n",
       "      <th>Bakery, Cakes &amp; Dairy</th>\n",
       "      <th>Beauty &amp; Hygiene</th>\n",
       "      <th>Beverages</th>\n",
       "      <th>Cleaning &amp; Household</th>\n",
       "      <th>Foodgrains, Oil &amp; Masala</th>\n",
       "      <th>Gourmet &amp; World Food</th>\n",
       "      <th>Kitchen, Garden &amp; Pets</th>\n",
       "      <th>Snacks &amp; Branded Foods</th>\n",
       "    </tr>\n",
       "  </thead>\n",
       "  <tbody>\n",
       "    <tr>\n",
       "      <th>0</th>\n",
       "      <td>220.0</td>\n",
       "      <td>4.1</td>\n",
       "      <td>0.000000</td>\n",
       "      <td>0</td>\n",
       "      <td>0</td>\n",
       "      <td>1</td>\n",
       "      <td>0</td>\n",
       "      <td>0</td>\n",
       "      <td>0</td>\n",
       "      <td>0</td>\n",
       "      <td>0</td>\n",
       "      <td>0</td>\n",
       "    </tr>\n",
       "    <tr>\n",
       "      <th>1</th>\n",
       "      <td>180.0</td>\n",
       "      <td>2.3</td>\n",
       "      <td>0.000000</td>\n",
       "      <td>0</td>\n",
       "      <td>0</td>\n",
       "      <td>0</td>\n",
       "      <td>0</td>\n",
       "      <td>0</td>\n",
       "      <td>0</td>\n",
       "      <td>0</td>\n",
       "      <td>1</td>\n",
       "      <td>0</td>\n",
       "    </tr>\n",
       "    <tr>\n",
       "      <th>2</th>\n",
       "      <td>119.0</td>\n",
       "      <td>3.4</td>\n",
       "      <td>52.400000</td>\n",
       "      <td>0</td>\n",
       "      <td>0</td>\n",
       "      <td>0</td>\n",
       "      <td>0</td>\n",
       "      <td>1</td>\n",
       "      <td>0</td>\n",
       "      <td>0</td>\n",
       "      <td>0</td>\n",
       "      <td>0</td>\n",
       "    </tr>\n",
       "    <tr>\n",
       "      <th>3</th>\n",
       "      <td>149.0</td>\n",
       "      <td>3.7</td>\n",
       "      <td>15.340909</td>\n",
       "      <td>0</td>\n",
       "      <td>0</td>\n",
       "      <td>0</td>\n",
       "      <td>0</td>\n",
       "      <td>1</td>\n",
       "      <td>0</td>\n",
       "      <td>0</td>\n",
       "      <td>0</td>\n",
       "      <td>0</td>\n",
       "    </tr>\n",
       "    <tr>\n",
       "      <th>4</th>\n",
       "      <td>162.0</td>\n",
       "      <td>4.4</td>\n",
       "      <td>0.000000</td>\n",
       "      <td>0</td>\n",
       "      <td>0</td>\n",
       "      <td>1</td>\n",
       "      <td>0</td>\n",
       "      <td>0</td>\n",
       "      <td>0</td>\n",
       "      <td>0</td>\n",
       "      <td>0</td>\n",
       "      <td>0</td>\n",
       "    </tr>\n",
       "  </tbody>\n",
       "</table>\n",
       "</div>"
      ],
      "text/plain": [
       "   sale_price  rating   discount  Baby Care  Bakery, Cakes & Dairy  \\\n",
       "0       220.0     4.1   0.000000          0                      0   \n",
       "1       180.0     2.3   0.000000          0                      0   \n",
       "2       119.0     3.4  52.400000          0                      0   \n",
       "3       149.0     3.7  15.340909          0                      0   \n",
       "4       162.0     4.4   0.000000          0                      0   \n",
       "\n",
       "   Beauty & Hygiene  Beverages  Cleaning & Household  \\\n",
       "0                 1          0                     0   \n",
       "1                 0          0                     0   \n",
       "2                 0          0                     1   \n",
       "3                 0          0                     1   \n",
       "4                 1          0                     0   \n",
       "\n",
       "   Foodgrains, Oil & Masala  Gourmet & World Food  Kitchen, Garden & Pets  \\\n",
       "0                         0                     0                       0   \n",
       "1                         0                     0                       1   \n",
       "2                         0                     0                       0   \n",
       "3                         0                     0                       0   \n",
       "4                         0                     0                       0   \n",
       "\n",
       "   Snacks & Branded Foods  \n",
       "0                       0  \n",
       "1                       0  \n",
       "2                       0  \n",
       "3                       0  \n",
       "4                       0  "
      ]
     },
     "execution_count": 23,
     "metadata": {},
     "output_type": "execute_result"
    }
   ],
   "source": [
    "df2.drop([\"market_price\"], inplace = True, axis = 1)\n",
    "df2.head()"
   ]
  },
  {
   "cell_type": "markdown",
   "id": "8141101f",
   "metadata": {
    "id": "j1waIHfYvtyn",
    "papermill": {
     "duration": 0.023322,
     "end_time": "2022-11-18T16:08:15.983521",
     "exception": false,
     "start_time": "2022-11-18T16:08:15.960199",
     "status": "completed"
    },
    "tags": []
   },
   "source": [
    "# We now attempt to make an MLR model."
   ]
  },
  {
   "cell_type": "code",
   "execution_count": 24,
   "id": "719d82f7",
   "metadata": {
    "execution": {
     "iopub.execute_input": "2022-11-18T16:08:16.030726Z",
     "iopub.status.busy": "2022-11-18T16:08:16.030010Z",
     "iopub.status.idle": "2022-11-18T16:08:16.036301Z",
     "shell.execute_reply": "2022-11-18T16:08:16.035225Z"
    },
    "id": "WSbxn9ahvwip",
    "papermill": {
     "duration": 0.032355,
     "end_time": "2022-11-18T16:08:16.038521",
     "exception": false,
     "start_time": "2022-11-18T16:08:16.006166",
     "status": "completed"
    },
    "tags": []
   },
   "outputs": [],
   "source": [
    "y = df2.iloc[:,[1]] # rating\n",
    "x = df2.iloc[:,[0,2,3,4,5,6,7,8,9,10,11]] #remaining columns\n"
   ]
  },
  {
   "cell_type": "code",
   "execution_count": 25,
   "id": "ad2ed5e6",
   "metadata": {
    "execution": {
     "iopub.execute_input": "2022-11-18T16:08:16.085978Z",
     "iopub.status.busy": "2022-11-18T16:08:16.085122Z",
     "iopub.status.idle": "2022-11-18T16:08:16.151461Z",
     "shell.execute_reply": "2022-11-18T16:08:16.149795Z"
    },
    "id": "B3Rebipzw0Sz",
    "papermill": {
     "duration": 0.09499,
     "end_time": "2022-11-18T16:08:16.156345",
     "exception": false,
     "start_time": "2022-11-18T16:08:16.061355",
     "status": "completed"
    },
    "tags": []
   },
   "outputs": [
    {
     "name": "stdout",
     "output_type": "stream",
     "text": [
      "                            OLS Regression Results                            \n",
      "==============================================================================\n",
      "Dep. Variable:                 rating   R-squared:                       0.020\n",
      "Model:                            OLS   Adj. R-squared:                  0.020\n",
      "Method:                 Least Squares   F-statistic:                     38.88\n",
      "Date:                Fri, 18 Nov 2022   Prob (F-statistic):           1.53e-76\n",
      "Time:                        16:08:16   Log-Likelihood:                -20942.\n",
      "No. Observations:               18928   AIC:                         4.191e+04\n",
      "Df Residuals:                   18917   BIC:                         4.199e+04\n",
      "Df Model:                          10                                         \n",
      "Covariance Type:            nonrobust                                         \n",
      "============================================================================================\n",
      "                               coef    std err          t      P>|t|      [0.025      0.975]\n",
      "--------------------------------------------------------------------------------------------\n",
      "sale_price                  -0.0001   1.53e-05     -7.652      0.000      -0.000   -8.71e-05\n",
      "discount                    -0.0018      0.000     -4.618      0.000      -0.003      -0.001\n",
      "Baby Care                    4.0915      0.034    121.148      0.000       4.025       4.158\n",
      "Bakery, Cakes & Dairy        3.9406      0.029    137.787      0.000       3.885       3.997\n",
      "Beauty & Hygiene             3.9922      0.012    325.016      0.000       3.968       4.016\n",
      "Beverages                    4.1282      0.030    139.819      0.000       4.070       4.186\n",
      "Cleaning & Household         3.9991      0.017    238.360      0.000       3.966       4.032\n",
      "Foodgrains, Oil & Masala     4.1009      0.016    250.608      0.000       4.069       4.133\n",
      "Gourmet & World Food         4.0273      0.016    256.455      0.000       3.997       4.058\n",
      "Kitchen, Garden & Pets       3.8326      0.019    203.233      0.000       3.796       3.870\n",
      "Snacks & Branded Foods       4.0078      0.015    266.833      0.000       3.978       4.037\n",
      "==============================================================================\n",
      "Omnibus:                     6263.679   Durbin-Watson:                   2.026\n",
      "Prob(Omnibus):                  0.000   Jarque-Bera (JB):            22826.012\n",
      "Skew:                          -1.648   Prob(JB):                         0.00\n",
      "Kurtosis:                       7.252   Cond. No.                     2.91e+03\n",
      "==============================================================================\n",
      "\n",
      "Notes:\n",
      "[1] Standard Errors assume that the covariance matrix of the errors is correctly specified.\n",
      "[2] The condition number is large, 2.91e+03. This might indicate that there are\n",
      "strong multicollinearity or other numerical problems.\n"
     ]
    }
   ],
   "source": [
    "model = sm.OLS(y, x).fit()\n",
    "print_model = model.summary()\n",
    "print(print_model)"
   ]
  },
  {
   "cell_type": "markdown",
   "id": "d5c28977",
   "metadata": {
    "papermill": {
     "duration": 0.042468,
     "end_time": "2022-11-18T16:08:16.257153",
     "exception": false,
     "start_time": "2022-11-18T16:08:16.214685",
     "status": "completed"
    },
    "tags": []
   },
   "source": [
    "To check for multicollinearity, we calculate the VIF values for all columns.\n"
   ]
  },
  {
   "cell_type": "code",
   "execution_count": 26,
   "id": "d0fea735",
   "metadata": {
    "execution": {
     "iopub.execute_input": "2022-11-18T16:08:16.304355Z",
     "iopub.status.busy": "2022-11-18T16:08:16.303953Z",
     "iopub.status.idle": "2022-11-18T16:08:16.527894Z",
     "shell.execute_reply": "2022-11-18T16:08:16.526503Z"
    },
    "papermill": {
     "duration": 0.251609,
     "end_time": "2022-11-18T16:08:16.531568",
     "exception": false,
     "start_time": "2022-11-18T16:08:16.279959",
     "status": "completed"
    },
    "tags": []
   },
   "outputs": [
    {
     "data": {
      "text/html": [
       "<div>\n",
       "<style scoped>\n",
       "    .dataframe tbody tr th:only-of-type {\n",
       "        vertical-align: middle;\n",
       "    }\n",
       "\n",
       "    .dataframe tbody tr th {\n",
       "        vertical-align: top;\n",
       "    }\n",
       "\n",
       "    .dataframe thead th {\n",
       "        text-align: right;\n",
       "    }\n",
       "</style>\n",
       "<table border=\"1\" class=\"dataframe\">\n",
       "  <thead>\n",
       "    <tr style=\"text-align: right;\">\n",
       "      <th></th>\n",
       "      <th>VIF</th>\n",
       "      <th>Column</th>\n",
       "    </tr>\n",
       "  </thead>\n",
       "  <tbody>\n",
       "    <tr>\n",
       "      <th>9</th>\n",
       "      <td>1.666173</td>\n",
       "      <td>Kitchen, Garden &amp; Pets</td>\n",
       "    </tr>\n",
       "    <tr>\n",
       "      <th>4</th>\n",
       "      <td>1.539421</td>\n",
       "      <td>Beauty &amp; Hygiene</td>\n",
       "    </tr>\n",
       "    <tr>\n",
       "      <th>1</th>\n",
       "      <td>1.174131</td>\n",
       "      <td>discount</td>\n",
       "    </tr>\n",
       "    <tr>\n",
       "      <th>8</th>\n",
       "      <td>1.104751</td>\n",
       "      <td>Gourmet &amp; World Food</td>\n",
       "    </tr>\n",
       "    <tr>\n",
       "      <th>6</th>\n",
       "      <td>1.103807</td>\n",
       "      <td>Cleaning &amp; Household</td>\n",
       "    </tr>\n",
       "    <tr>\n",
       "      <th>0</th>\n",
       "      <td>1.098214</td>\n",
       "      <td>sale_price</td>\n",
       "    </tr>\n",
       "    <tr>\n",
       "      <th>7</th>\n",
       "      <td>1.096549</td>\n",
       "      <td>Foodgrains, Oil &amp; Masala</td>\n",
       "    </tr>\n",
       "    <tr>\n",
       "      <th>2</th>\n",
       "      <td>1.056409</td>\n",
       "      <td>Baby Care</td>\n",
       "    </tr>\n",
       "    <tr>\n",
       "      <th>10</th>\n",
       "      <td>1.040090</td>\n",
       "      <td>Snacks &amp; Branded Foods</td>\n",
       "    </tr>\n",
       "    <tr>\n",
       "      <th>5</th>\n",
       "      <td>1.030441</td>\n",
       "      <td>Beverages</td>\n",
       "    </tr>\n",
       "    <tr>\n",
       "      <th>3</th>\n",
       "      <td>1.015672</td>\n",
       "      <td>Bakery, Cakes &amp; Dairy</td>\n",
       "    </tr>\n",
       "  </tbody>\n",
       "</table>\n",
       "</div>"
      ],
      "text/plain": [
       "         VIF                    Column\n",
       "9   1.666173    Kitchen, Garden & Pets\n",
       "4   1.539421          Beauty & Hygiene\n",
       "1   1.174131                  discount\n",
       "8   1.104751      Gourmet & World Food\n",
       "6   1.103807      Cleaning & Household\n",
       "0   1.098214                sale_price\n",
       "7   1.096549  Foodgrains, Oil & Masala\n",
       "2   1.056409                 Baby Care\n",
       "10  1.040090    Snacks & Branded Foods\n",
       "5   1.030441                 Beverages\n",
       "3   1.015672     Bakery, Cakes & Dairy"
      ]
     },
     "execution_count": 26,
     "metadata": {},
     "output_type": "execute_result"
    }
   ],
   "source": [
    "X = df2.iloc[:,[0,2,3,4,5,6,7,8,9,10,11]]\n",
    "vif_info = pd.DataFrame()\n",
    "vif_info['VIF'] = [variance_inflation_factor(X.values, i) for i in range(X.shape[1])]\n",
    "vif_info['Column'] = X.columns\n",
    "vif_info.sort_values('VIF', ascending=False)"
   ]
  },
  {
   "cell_type": "markdown",
   "id": "a7becbc5",
   "metadata": {
    "id": "USsOdjd2_t5S",
    "papermill": {
     "duration": 0.047064,
     "end_time": "2022-11-18T16:08:16.637527",
     "exception": false,
     "start_time": "2022-11-18T16:08:16.590463",
     "status": "completed"
    },
    "tags": []
   },
   "source": [
    "The R-squared error is quite low, and there appear to be no varibles with multicollinearity, so this might prove to be a viable model.\n",
    "\n",
    "We now attempt prediction."
   ]
  },
  {
   "cell_type": "code",
   "execution_count": 27,
   "id": "58722b7b",
   "metadata": {
    "execution": {
     "iopub.execute_input": "2022-11-18T16:08:16.685074Z",
     "iopub.status.busy": "2022-11-18T16:08:16.684667Z",
     "iopub.status.idle": "2022-11-18T16:08:16.691994Z",
     "shell.execute_reply": "2022-11-18T16:08:16.690661Z"
    },
    "id": "qBurKvDw_4XD",
    "papermill": {
     "duration": 0.033937,
     "end_time": "2022-11-18T16:08:16.694380",
     "exception": false,
     "start_time": "2022-11-18T16:08:16.660443",
     "status": "completed"
    },
    "tags": []
   },
   "outputs": [],
   "source": [
    "y = df2.iloc[:,[1]] # rating\n",
    "x = df2.iloc[:,[0,2,3,4,5,6,7,8,9,10,11]] #remaining columns"
   ]
  },
  {
   "cell_type": "markdown",
   "id": "ba7e97ae",
   "metadata": {
    "id": "RtvPeqo1AiV7",
    "papermill": {
     "duration": 0.022639,
     "end_time": "2022-11-18T16:08:16.739985",
     "exception": false,
     "start_time": "2022-11-18T16:08:16.717346",
     "status": "completed"
    },
    "tags": []
   },
   "source": [
    "Splitting into train and test set"
   ]
  },
  {
   "cell_type": "code",
   "execution_count": 28,
   "id": "163b1bf2",
   "metadata": {
    "execution": {
     "iopub.execute_input": "2022-11-18T16:08:16.788636Z",
     "iopub.status.busy": "2022-11-18T16:08:16.787471Z",
     "iopub.status.idle": "2022-11-18T16:08:16.807894Z",
     "shell.execute_reply": "2022-11-18T16:08:16.806022Z"
    },
    "id": "Y97n4wwRAcXO",
    "papermill": {
     "duration": 0.047915,
     "end_time": "2022-11-18T16:08:16.810973",
     "exception": false,
     "start_time": "2022-11-18T16:08:16.763058",
     "status": "completed"
    },
    "tags": []
   },
   "outputs": [
    {
     "name": "stdout",
     "output_type": "stream",
     "text": [
      "X_train: (15142, 11)\n",
      "X_test: (3786, 11)\n",
      "Y_train: (15142, 1)\n",
      "Y_test: (3786, 1)\n"
     ]
    }
   ],
   "source": [
    "x_train,x_test,y_train,y_test=train_test_split(x,y,test_size=0.2,random_state=0)\n",
    "print(\"X_train:\",x_train.shape)\n",
    "print(\"X_test:\",x_test.shape)\n",
    "print(\"Y_train:\",y_train.shape)\n",
    "print(\"Y_test:\",y_test.shape)\n",
    "sc = StandardScaler()\n",
    "x_train = sc.fit_transform(x_train)\n",
    "x_test = sc.transform(x_test)"
   ]
  },
  {
   "cell_type": "markdown",
   "id": "2cf16595",
   "metadata": {
    "id": "-TXuOogOAufL",
    "papermill": {
     "duration": 0.022729,
     "end_time": "2022-11-18T16:08:16.857111",
     "exception": false,
     "start_time": "2022-11-18T16:08:16.834382",
     "status": "completed"
    },
    "tags": []
   },
   "source": [
    "Training the model\n"
   ]
  },
  {
   "cell_type": "code",
   "execution_count": 29,
   "id": "20016487",
   "metadata": {
    "execution": {
     "iopub.execute_input": "2022-11-18T16:08:16.904945Z",
     "iopub.status.busy": "2022-11-18T16:08:16.904138Z",
     "iopub.status.idle": "2022-11-18T16:08:16.942227Z",
     "shell.execute_reply": "2022-11-18T16:08:16.940546Z"
    },
    "id": "3aIYU6qaApIv",
    "papermill": {
     "duration": 0.06664,
     "end_time": "2022-11-18T16:08:16.946639",
     "exception": false,
     "start_time": "2022-11-18T16:08:16.879999",
     "status": "completed"
    },
    "tags": []
   },
   "outputs": [
    {
     "data": {
      "text/plain": [
       "LinearRegression()"
      ]
     },
     "execution_count": 29,
     "metadata": {},
     "output_type": "execute_result"
    }
   ],
   "source": [
    "linreg=LinearRegression()\n",
    "linreg.fit(x_train,y_train)"
   ]
  },
  {
   "cell_type": "markdown",
   "id": "866198cd",
   "metadata": {
    "id": "DuoYbN58A_27",
    "papermill": {
     "duration": 0.048036,
     "end_time": "2022-11-18T16:08:17.054745",
     "exception": false,
     "start_time": "2022-11-18T16:08:17.006709",
     "status": "completed"
    },
    "tags": []
   },
   "source": [
    "Prediction and Evaluation of the model"
   ]
  },
  {
   "cell_type": "code",
   "execution_count": 30,
   "id": "012c0489",
   "metadata": {
    "execution": {
     "iopub.execute_input": "2022-11-18T16:08:17.103855Z",
     "iopub.status.busy": "2022-11-18T16:08:17.102857Z",
     "iopub.status.idle": "2022-11-18T16:08:17.109225Z",
     "shell.execute_reply": "2022-11-18T16:08:17.107695Z"
    },
    "id": "nmLMKMc3BD16",
    "papermill": {
     "duration": 0.036982,
     "end_time": "2022-11-18T16:08:17.114870",
     "exception": false,
     "start_time": "2022-11-18T16:08:17.077888",
     "status": "completed"
    },
    "tags": []
   },
   "outputs": [],
   "source": [
    "y_pred=linreg.predict(x_test)\n",
    "\n",
    "#first 20 results"
   ]
  },
  {
   "cell_type": "code",
   "execution_count": 31,
   "id": "943ab586",
   "metadata": {
    "execution": {
     "iopub.execute_input": "2022-11-18T16:08:17.231612Z",
     "iopub.status.busy": "2022-11-18T16:08:17.231218Z",
     "iopub.status.idle": "2022-11-18T16:08:17.241467Z",
     "shell.execute_reply": "2022-11-18T16:08:17.240022Z"
    },
    "id": "W_mGvmWDBO9q",
    "papermill": {
     "duration": 0.07069,
     "end_time": "2022-11-18T16:08:17.244225",
     "exception": false,
     "start_time": "2022-11-18T16:08:17.173535",
     "status": "completed"
    },
    "tags": []
   },
   "outputs": [
    {
     "name": "stdout",
     "output_type": "stream",
     "text": [
      "MSE: 0.540\n",
      "MAE : 0.49256260894541115\n"
     ]
    }
   ],
   "source": [
    "print('MSE: %.3f' % (mean_squared_error(y_test, y_pred)))\n",
    "\n",
    "\n",
    "\n",
    "\n",
    "mape = mean_absolute_error(y_test, y_pred)*100\n",
    "\n",
    "print(\"MAE : \" + str(mape/100))"
   ]
  },
  {
   "cell_type": "markdown",
   "id": "17bae0c2",
   "metadata": {
    "id": "JWd10HwmB92s",
    "papermill": {
     "duration": 0.023186,
     "end_time": "2022-11-18T16:08:17.291381",
     "exception": false,
     "start_time": "2022-11-18T16:08:17.268195",
     "status": "completed"
    },
    "tags": []
   },
   "source": [
    "### As is evident, the accuracy of the Linear model is extremely low. We attempt a Lasso regressive model.\n"
   ]
  },
  {
   "cell_type": "code",
   "execution_count": 32,
   "id": "26474256",
   "metadata": {
    "execution": {
     "iopub.execute_input": "2022-11-18T16:08:17.340769Z",
     "iopub.status.busy": "2022-11-18T16:08:17.340012Z",
     "iopub.status.idle": "2022-11-18T16:08:17.386522Z",
     "shell.execute_reply": "2022-11-18T16:08:17.384922Z"
    },
    "papermill": {
     "duration": 0.075915,
     "end_time": "2022-11-18T16:08:17.390802",
     "exception": false,
     "start_time": "2022-11-18T16:08:17.314887",
     "status": "completed"
    },
    "tags": []
   },
   "outputs": [
    {
     "data": {
      "text/plain": [
       "Lasso(alpha=0.001)"
      ]
     },
     "execution_count": 32,
     "metadata": {},
     "output_type": "execute_result"
    }
   ],
   "source": [
    "lasso=Lasso(alpha = 0.001)\n",
    "lasso.fit(x_train,y_train)"
   ]
  },
  {
   "cell_type": "code",
   "execution_count": 33,
   "id": "0e9c3026",
   "metadata": {
    "execution": {
     "iopub.execute_input": "2022-11-18T16:08:17.507002Z",
     "iopub.status.busy": "2022-11-18T16:08:17.506584Z",
     "iopub.status.idle": "2022-11-18T16:08:17.518232Z",
     "shell.execute_reply": "2022-11-18T16:08:17.516478Z"
    },
    "papermill": {
     "duration": 0.072702,
     "end_time": "2022-11-18T16:08:17.524453",
     "exception": false,
     "start_time": "2022-11-18T16:08:17.451751",
     "status": "completed"
    },
    "tags": []
   },
   "outputs": [
    {
     "data": {
      "text/plain": [
       "array([4.04095306, 3.74838159, 3.9784221 , 3.94053874, 3.94254936,\n",
       "       3.99245467, 4.0401096 , 3.91929507, 4.07724728, 3.98683039,\n",
       "       3.92825026, 4.09587811, 3.91356391, 3.9756651 , 4.00348266,\n",
       "       3.95242992, 3.95308749, 4.07614351, 3.9756651 , 3.95630799])"
      ]
     },
     "execution_count": 33,
     "metadata": {},
     "output_type": "execute_result"
    }
   ],
   "source": [
    "y_pred=lasso.predict(x_test)\n",
    "y_pred[:20]"
   ]
  },
  {
   "cell_type": "code",
   "execution_count": 34,
   "id": "bf446040",
   "metadata": {
    "execution": {
     "iopub.execute_input": "2022-11-18T16:08:17.638861Z",
     "iopub.status.busy": "2022-11-18T16:08:17.638360Z",
     "iopub.status.idle": "2022-11-18T16:08:17.650994Z",
     "shell.execute_reply": "2022-11-18T16:08:17.648775Z"
    },
    "papermill": {
     "duration": 0.069273,
     "end_time": "2022-11-18T16:08:17.654008",
     "exception": false,
     "start_time": "2022-11-18T16:08:17.584735",
     "status": "completed"
    },
    "tags": []
   },
   "outputs": [
    {
     "name": "stdout",
     "output_type": "stream",
     "text": [
      "MSE: 0.540\n",
      "MAE : 0.4925470852561415\n"
     ]
    }
   ],
   "source": [
    "print('MSE: %.3f' % (mean_squared_error(y_test, y_pred)))\n",
    "\n",
    "\n",
    "\n",
    "\n",
    "mape = mean_absolute_error(y_test, y_pred)*100\n",
    "\n",
    "print(\"MAE : \" + str(mape/100))"
   ]
  },
  {
   "cell_type": "markdown",
   "id": "a4f1036f",
   "metadata": {
    "papermill": {
     "duration": 0.023378,
     "end_time": "2022-11-18T16:08:17.701708",
     "exception": false,
     "start_time": "2022-11-18T16:08:17.678330",
     "status": "completed"
    },
    "tags": []
   },
   "source": [
    "### The accuracy has not shown much improvement. We now attempt a Ridge regression."
   ]
  },
  {
   "cell_type": "code",
   "execution_count": 35,
   "id": "df9a189d",
   "metadata": {
    "execution": {
     "iopub.execute_input": "2022-11-18T16:08:17.751449Z",
     "iopub.status.busy": "2022-11-18T16:08:17.750614Z",
     "iopub.status.idle": "2022-11-18T16:08:17.771605Z",
     "shell.execute_reply": "2022-11-18T16:08:17.769841Z"
    },
    "papermill": {
     "duration": 0.051004,
     "end_time": "2022-11-18T16:08:17.776361",
     "exception": false,
     "start_time": "2022-11-18T16:08:17.725357",
     "status": "completed"
    },
    "tags": []
   },
   "outputs": [],
   "source": [
    "pipeline = make_pipeline(StandardScaler(), Ridge(alpha=1.0))\n",
    "pipeline.fit(x_train, y_train)\n",
    "y_train_pred = pipeline.predict(x_train)\n",
    "y_test_pred = pipeline.predict(x_test)"
   ]
  },
  {
   "cell_type": "code",
   "execution_count": 36,
   "id": "aa68be23",
   "metadata": {
    "execution": {
     "iopub.execute_input": "2022-11-18T16:08:17.895378Z",
     "iopub.status.busy": "2022-11-18T16:08:17.894933Z",
     "iopub.status.idle": "2022-11-18T16:08:17.908005Z",
     "shell.execute_reply": "2022-11-18T16:08:17.906850Z"
    },
    "papermill": {
     "duration": 0.07278,
     "end_time": "2022-11-18T16:08:17.911016",
     "exception": false,
     "start_time": "2022-11-18T16:08:17.838236",
     "status": "completed"
    },
    "tags": []
   },
   "outputs": [
    {
     "name": "stdout",
     "output_type": "stream",
     "text": [
      "MSE train: 0.534, test: 0.540\n",
      "MAPE : 49.2512114685379\n"
     ]
    }
   ],
   "source": [
    "print('MSE train: %.3f, test: %.3f' % (mean_squared_error(y_train, y_train_pred),\n",
    "                mean_squared_error(y_test, y_test_pred)))\n",
    "\n",
    "\n",
    "\n",
    "\n",
    "mape = mean_absolute_error(y_test, y_test_pred)*100\n",
    "print(\"MAPE : \" +str(mape))"
   ]
  },
  {
   "cell_type": "markdown",
   "id": "f961e89b",
   "metadata": {
    "papermill": {
     "duration": 0.023407,
     "end_time": "2022-11-18T16:08:17.958821",
     "exception": false,
     "start_time": "2022-11-18T16:08:17.935414",
     "status": "completed"
    },
    "tags": []
   },
   "source": [
    "### Clearly, the MSE of the Ridge model is very low which is a huge improvement. Thus, among regression models, the Ridge model appears to be most viable."
   ]
  },
  {
   "cell_type": "markdown",
   "id": "0d1d94a0",
   "metadata": {
    "papermill": {
     "duration": 0.023463,
     "end_time": "2022-11-18T16:08:18.006343",
     "exception": false,
     "start_time": "2022-11-18T16:08:17.982880",
     "status": "completed"
    },
    "tags": []
   },
   "source": [
    "## Decision tree model\n"
   ]
  },
  {
   "cell_type": "code",
   "execution_count": 37,
   "id": "e9f2e63b",
   "metadata": {
    "execution": {
     "iopub.execute_input": "2022-11-18T16:08:18.056641Z",
     "iopub.status.busy": "2022-11-18T16:08:18.055442Z",
     "iopub.status.idle": "2022-11-18T16:08:18.112411Z",
     "shell.execute_reply": "2022-11-18T16:08:18.111110Z"
    },
    "papermill": {
     "duration": 0.085003,
     "end_time": "2022-11-18T16:08:18.115317",
     "exception": false,
     "start_time": "2022-11-18T16:08:18.030314",
     "status": "completed"
    },
    "tags": []
   },
   "outputs": [],
   "source": [
    "y = df2.iloc[:,[1]] # rating\n",
    "x = df2.iloc[:,[0,2,3,4,5,6,7,8,9,10,11]] #remaining columns\n",
    "x_train,x_test,y_train,y_test=train_test_split(x,y,test_size=0.2,random_state=0)\n",
    "regressor = DecisionTreeRegressor(random_state = 0) \n",
    "regressor.fit(x_train, y_train)\n",
    "y_pred = regressor.predict(x_test)"
   ]
  },
  {
   "cell_type": "code",
   "execution_count": 38,
   "id": "74a78800",
   "metadata": {
    "execution": {
     "iopub.execute_input": "2022-11-18T16:08:18.164618Z",
     "iopub.status.busy": "2022-11-18T16:08:18.164183Z",
     "iopub.status.idle": "2022-11-18T16:08:18.175479Z",
     "shell.execute_reply": "2022-11-18T16:08:18.174049Z"
    },
    "papermill": {
     "duration": 0.039027,
     "end_time": "2022-11-18T16:08:18.178093",
     "exception": false,
     "start_time": "2022-11-18T16:08:18.139066",
     "status": "completed"
    },
    "tags": []
   },
   "outputs": [
    {
     "name": "stdout",
     "output_type": "stream",
     "text": [
      "MSE: 0.710\n",
      "MAE : 0.5515917687253344\n"
     ]
    }
   ],
   "source": [
    "\n",
    "\n",
    "print('MSE: %.3f' % (mean_squared_error(y_test, y_pred)))\n",
    "\n",
    "\n",
    "\n",
    "\n",
    "mape = mean_absolute_error(y_test, y_pred)*100\n",
    "\n",
    "print(\"MAE : \" + str(mape/100))"
   ]
  },
  {
   "cell_type": "markdown",
   "id": "44b6e5f3",
   "metadata": {
    "papermill": {
     "duration": 0.02349,
     "end_time": "2022-11-18T16:08:18.225683",
     "exception": false,
     "start_time": "2022-11-18T16:08:18.202193",
     "status": "completed"
    },
    "tags": []
   },
   "source": [
    "### Decision trees are clearly unviable in this scenario."
   ]
  },
  {
   "cell_type": "markdown",
   "id": "35a5395d",
   "metadata": {
    "papermill": {
     "duration": 0.023046,
     "end_time": "2022-11-18T16:08:18.272296",
     "exception": false,
     "start_time": "2022-11-18T16:08:18.249250",
     "status": "completed"
    },
    "tags": []
   },
   "source": [
    "# ANN"
   ]
  },
  {
   "cell_type": "code",
   "execution_count": 39,
   "id": "b38b2456",
   "metadata": {
    "execution": {
     "iopub.execute_input": "2022-11-18T16:08:18.322167Z",
     "iopub.status.busy": "2022-11-18T16:08:18.321065Z",
     "iopub.status.idle": "2022-11-18T16:08:18.340435Z",
     "shell.execute_reply": "2022-11-18T16:08:18.339270Z"
    },
    "papermill": {
     "duration": 0.046695,
     "end_time": "2022-11-18T16:08:18.342897",
     "exception": false,
     "start_time": "2022-11-18T16:08:18.296202",
     "status": "completed"
    },
    "tags": []
   },
   "outputs": [],
   "source": [
    "y = df2.iloc[:,[1]] # rating\n",
    "x = df2.iloc[:,[0,2,3,4,5,6,7,8,9,10,11]] #remaining columns\n",
    "x_train,x_test,y_train,y_test=train_test_split(x,y,test_size=0.2,random_state=0)\n",
    "sc = StandardScaler()\n",
    "x_train = sc.fit_transform(x_train)\n",
    "x_test = sc.transform(x_test)\n"
   ]
  },
  {
   "cell_type": "code",
   "execution_count": 40,
   "id": "45aaacbc",
   "metadata": {
    "execution": {
     "iopub.execute_input": "2022-11-18T16:08:18.392274Z",
     "iopub.status.busy": "2022-11-18T16:08:18.391826Z",
     "iopub.status.idle": "2022-11-18T16:08:19.690447Z",
     "shell.execute_reply": "2022-11-18T16:08:19.689111Z"
    },
    "papermill": {
     "duration": 1.327005,
     "end_time": "2022-11-18T16:08:19.693524",
     "exception": false,
     "start_time": "2022-11-18T16:08:18.366519",
     "status": "completed"
    },
    "tags": []
   },
   "outputs": [
    {
     "name": "stderr",
     "output_type": "stream",
     "text": [
      "2022-11-18 16:08:19.639979: I tensorflow/core/common_runtime/process_util.cc:146] Creating new thread pool with default inter op setting: 2. Tune using inter_op_parallelism_threads for best performance.\n"
     ]
    }
   ],
   "source": [
    "#Initialising ANN\n",
    "ann = tf.keras.models.Sequential()\n",
    "ann.add(tf.keras.layers.Dense(units=6,activation=\"relu\"))\n",
    "ann.add(tf.keras.layers.Dense(units=6,activation=\"relu\"))\n",
    "ann.add(tf.keras.layers.Dense(units=1,activation=\"sigmoid\"))\n",
    "ann.compile(optimizer=\"adam\",loss=\"binary_crossentropy\",metrics=['accuracy'])\n",
    "\n",
    "# Change these parameters"
   ]
  },
  {
   "cell_type": "code",
   "execution_count": 41,
   "id": "07f6b49a",
   "metadata": {
    "execution": {
     "iopub.execute_input": "2022-11-18T16:08:19.743302Z",
     "iopub.status.busy": "2022-11-18T16:08:19.742867Z",
     "iopub.status.idle": "2022-11-18T16:08:30.788215Z",
     "shell.execute_reply": "2022-11-18T16:08:30.787052Z"
    },
    "papermill": {
     "duration": 11.073325,
     "end_time": "2022-11-18T16:08:30.790545",
     "exception": false,
     "start_time": "2022-11-18T16:08:19.717220",
     "status": "completed"
    },
    "tags": []
   },
   "outputs": [
    {
     "name": "stderr",
     "output_type": "stream",
     "text": [
      "2022-11-18 16:08:19.835800: I tensorflow/compiler/mlir/mlir_graph_optimization_pass.cc:185] None of the MLIR Optimization Passes are enabled (registered 2)\n"
     ]
    },
    {
     "name": "stdout",
     "output_type": "stream",
     "text": [
      "Epoch 1/10\n",
      "474/474 [==============================] - 1s 1ms/step - loss: -6.5618 - accuracy: 0.0158\n",
      "Epoch 2/10\n",
      "474/474 [==============================] - 1s 1ms/step - loss: -208.3726 - accuracy: 0.0198\n",
      "Epoch 3/10\n",
      "474/474 [==============================] - 1s 1ms/step - loss: -1104.1604 - accuracy: 0.0198\n",
      "Epoch 4/10\n",
      "474/474 [==============================] - 1s 1ms/step - loss: -3181.0916 - accuracy: 0.0198\n",
      "Epoch 5/10\n",
      "474/474 [==============================] - 1s 1ms/step - loss: -6616.7061 - accuracy: 0.0198\n",
      "Epoch 6/10\n",
      "474/474 [==============================] - 1s 2ms/step - loss: -11540.7568 - accuracy: 0.0198\n",
      "Epoch 7/10\n",
      "474/474 [==============================] - 1s 1ms/step - loss: -18055.9258 - accuracy: 0.0198\n",
      "Epoch 8/10\n",
      "474/474 [==============================] - 1s 1ms/step - loss: -26242.5938 - accuracy: 0.0198\n",
      "Epoch 9/10\n",
      "474/474 [==============================] - 1s 1ms/step - loss: -36184.8750 - accuracy: 0.0198\n",
      "Epoch 10/10\n",
      "474/474 [==============================] - 1s 1ms/step - loss: -47973.9453 - accuracy: 0.0198\n"
     ]
    },
    {
     "data": {
      "text/plain": [
       "<keras.callbacks.History at 0x7f841d148a90>"
      ]
     },
     "execution_count": 41,
     "metadata": {},
     "output_type": "execute_result"
    }
   ],
   "source": [
    "ann.fit(x_train,y_train,batch_size=32,epochs = 10)\n"
   ]
  },
  {
   "cell_type": "code",
   "execution_count": 42,
   "id": "a8aaf52c",
   "metadata": {
    "execution": {
     "iopub.execute_input": "2022-11-18T16:08:30.857270Z",
     "iopub.status.busy": "2022-11-18T16:08:30.856833Z",
     "iopub.status.idle": "2022-11-18T16:08:31.080151Z",
     "shell.execute_reply": "2022-11-18T16:08:31.078901Z"
    },
    "papermill": {
     "duration": 0.259443,
     "end_time": "2022-11-18T16:08:31.083469",
     "exception": false,
     "start_time": "2022-11-18T16:08:30.824026",
     "status": "completed"
    },
    "tags": []
   },
   "outputs": [
    {
     "name": "stdout",
     "output_type": "stream",
     "text": [
      "MSE: 9.269\n",
      "MAE : 2.9526941362916004\n"
     ]
    }
   ],
   "source": [
    "y_pred = ann.predict(x_test)\n",
    "Accuracy=r2_score(y_test,y_pred)*100\n",
    "\n",
    "print('MSE: %.3f' % (mean_squared_error(y_test, y_pred)))\n",
    "\n",
    "\n",
    "\n",
    "mape = mean_absolute_error(y_test, y_pred)*100\n",
    "\n",
    "print(\"MAE : \" + str(mape/100))"
   ]
  },
  {
   "cell_type": "markdown",
   "id": "fc1d79a1",
   "metadata": {
    "papermill": {
     "duration": 0.031985,
     "end_time": "2022-11-18T16:08:31.149064",
     "exception": false,
     "start_time": "2022-11-18T16:08:31.117079",
     "status": "completed"
    },
    "tags": []
   },
   "source": [
    "# Hence we conclude that the most viable model is the Lasso Regressive model"
   ]
  },
  {
   "cell_type": "code",
   "execution_count": null,
   "id": "a778d408",
   "metadata": {
    "papermill": {
     "duration": 0.032235,
     "end_time": "2022-11-18T16:08:31.213854",
     "exception": false,
     "start_time": "2022-11-18T16:08:31.181619",
     "status": "completed"
    },
    "tags": []
   },
   "outputs": [],
   "source": []
  }
 ],
 "metadata": {
  "kernelspec": {
   "display_name": "Python 3",
   "language": "python",
   "name": "python3"
  },
  "language_info": {
   "codemirror_mode": {
    "name": "ipython",
    "version": 3
   },
   "file_extension": ".py",
   "mimetype": "text/x-python",
   "name": "python",
   "nbconvert_exporter": "python",
   "pygments_lexer": "ipython3",
   "version": "3.7.12"
  },
  "papermill": {
   "default_parameters": {},
   "duration": 120.297658,
   "end_time": "2022-11-18T16:08:34.825114",
   "environment_variables": {},
   "exception": null,
   "input_path": "__notebook__.ipynb",
   "output_path": "__notebook__.ipynb",
   "parameters": {},
   "start_time": "2022-11-18T16:06:34.527456",
   "version": "2.3.4"
  }
 },
 "nbformat": 4,
 "nbformat_minor": 5
}
